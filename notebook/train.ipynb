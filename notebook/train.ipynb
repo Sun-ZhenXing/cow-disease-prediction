{
 "cells": [
  {
   "cell_type": "code",
   "execution_count": 1,
   "metadata": {},
   "outputs": [],
   "source": [
    "import pandas as pd\n",
    "import numpy as np\n",
    "import seaborn as sns\n",
    "import matplotlib.pyplot as plt\n",
    "from sklearn.preprocessing import StandardScaler\n",
    "from sklearn.metrics import confusion_matrix\n",
    "from sklearn import metrics\n",
    "from sklearn.model_selection import train_test_split\n",
    "from sklearn.metrics import classification_report\n",
    "from sklearn.tree import DecisionTreeClassifier\n",
    "from xgboost.sklearn import XGBClassifier\n",
    "\n",
    "from imblearn.ensemble import BalancedBaggingClassifier\n",
    "from imblearn.ensemble import BalancedRandomForestClassifier"
   ]
  },
  {
   "attachments": {},
   "cell_type": "markdown",
   "metadata": {},
   "source": [
    "## 处理数据"
   ]
  },
  {
   "cell_type": "code",
   "execution_count": 2,
   "metadata": {},
   "outputs": [],
   "source": [
    "# 绘制混淆矩阵\n",
    "def plot_confusion_matrix(y_test, y_pred):\n",
    "    \"\"\"绘制混淆矩阵\"\"\"\n",
    "    cm = confusion_matrix(y_test, y_pred)\n",
    "    sns.heatmap(cm, annot=True, fmt=\"d\", cmap=\"Blues\")\n",
    "    plt.ylabel(\"True label\")\n",
    "    plt.xlabel(\"Predicted label\")\n",
    "    plt.show()"
   ]
  },
  {
   "cell_type": "code",
   "execution_count": 3,
   "metadata": {},
   "outputs": [
    {
     "data": {
      "text/plain": [
       "乳房疾病      634\n",
       "生殖系统      423\n",
       "自定义疾病     244\n",
       "消化系统       51\n",
       "营养代谢系统     46\n",
       "传染病        18\n",
       "应激与过敏      15\n",
       "神经系统        6\n",
       "四肢疾病        4\n",
       "泌尿系统        1\n",
       "Name: disease_status, dtype: int64"
      ]
     },
     "execution_count": 3,
     "metadata": {},
     "output_type": "execute_result"
    }
   ],
   "source": [
    "usecols = [\n",
    "    \"yield_daliy\",\n",
    "    \"activity_daliy\",\n",
    "    \"chew_daliy\",\n",
    "    \"lactation_days\",\n",
    "    \"lactation_period\",\n",
    "    \"disease_status\",\n",
    "]\n",
    "data = pd.read_csv(\"../data/sample_test.csv\", usecols=usecols)\n",
    "data[\"disease_status\"].value_counts()"
   ]
  },
  {
   "cell_type": "code",
   "execution_count": 4,
   "metadata": {},
   "outputs": [
    {
     "name": "stdout",
     "output_type": "stream",
     "text": [
      "<class 'pandas.core.frame.DataFrame'>\n",
      "RangeIndex: 188572 entries, 0 to 188571\n",
      "Data columns (total 6 columns):\n",
      " #   Column            Non-Null Count   Dtype  \n",
      "---  ------            --------------   -----  \n",
      " 0   yield_daliy       188572 non-null  float64\n",
      " 1   activity_daliy    188486 non-null  float64\n",
      " 2   chew_daliy        188572 non-null  float64\n",
      " 3   lactation_days    188572 non-null  int64  \n",
      " 4   lactation_period  188572 non-null  int64  \n",
      " 5   disease_status    1442 non-null    object \n",
      "dtypes: float64(3), int64(2), object(1)\n",
      "memory usage: 8.6+ MB\n"
     ]
    },
    {
     "data": {
      "text/html": [
       "<div>\n",
       "<style scoped>\n",
       "    .dataframe tbody tr th:only-of-type {\n",
       "        vertical-align: middle;\n",
       "    }\n",
       "\n",
       "    .dataframe tbody tr th {\n",
       "        vertical-align: top;\n",
       "    }\n",
       "\n",
       "    .dataframe thead th {\n",
       "        text-align: right;\n",
       "    }\n",
       "</style>\n",
       "<table border=\"1\" class=\"dataframe\">\n",
       "  <thead>\n",
       "    <tr style=\"text-align: right;\">\n",
       "      <th></th>\n",
       "      <th>yield_daliy</th>\n",
       "      <th>activity_daliy</th>\n",
       "      <th>chew_daliy</th>\n",
       "      <th>lactation_days</th>\n",
       "      <th>lactation_period</th>\n",
       "      <th>disease_status</th>\n",
       "    </tr>\n",
       "  </thead>\n",
       "  <tbody>\n",
       "    <tr>\n",
       "      <th>0</th>\n",
       "      <td>36.905998</td>\n",
       "      <td>386.0</td>\n",
       "      <td>635.0</td>\n",
       "      <td>16</td>\n",
       "      <td>5</td>\n",
       "      <td>NaN</td>\n",
       "    </tr>\n",
       "    <tr>\n",
       "      <th>1</th>\n",
       "      <td>40.021999</td>\n",
       "      <td>393.0</td>\n",
       "      <td>654.0</td>\n",
       "      <td>17</td>\n",
       "      <td>5</td>\n",
       "      <td>NaN</td>\n",
       "    </tr>\n",
       "    <tr>\n",
       "      <th>2</th>\n",
       "      <td>39.776001</td>\n",
       "      <td>410.0</td>\n",
       "      <td>665.0</td>\n",
       "      <td>18</td>\n",
       "      <td>5</td>\n",
       "      <td>NaN</td>\n",
       "    </tr>\n",
       "    <tr>\n",
       "      <th>3</th>\n",
       "      <td>41.172001</td>\n",
       "      <td>382.0</td>\n",
       "      <td>564.0</td>\n",
       "      <td>19</td>\n",
       "      <td>5</td>\n",
       "      <td>NaN</td>\n",
       "    </tr>\n",
       "    <tr>\n",
       "      <th>4</th>\n",
       "      <td>38.122002</td>\n",
       "      <td>383.0</td>\n",
       "      <td>393.0</td>\n",
       "      <td>20</td>\n",
       "      <td>5</td>\n",
       "      <td>NaN</td>\n",
       "    </tr>\n",
       "    <tr>\n",
       "      <th>...</th>\n",
       "      <td>...</td>\n",
       "      <td>...</td>\n",
       "      <td>...</td>\n",
       "      <td>...</td>\n",
       "      <td>...</td>\n",
       "      <td>...</td>\n",
       "    </tr>\n",
       "    <tr>\n",
       "      <th>188567</th>\n",
       "      <td>6.160000</td>\n",
       "      <td>422.0</td>\n",
       "      <td>113.0</td>\n",
       "      <td>0</td>\n",
       "      <td>1</td>\n",
       "      <td>NaN</td>\n",
       "    </tr>\n",
       "    <tr>\n",
       "      <th>188568</th>\n",
       "      <td>7.500000</td>\n",
       "      <td>607.0</td>\n",
       "      <td>245.0</td>\n",
       "      <td>1</td>\n",
       "      <td>1</td>\n",
       "      <td>NaN</td>\n",
       "    </tr>\n",
       "    <tr>\n",
       "      <th>188569</th>\n",
       "      <td>14.750000</td>\n",
       "      <td>526.0</td>\n",
       "      <td>474.0</td>\n",
       "      <td>2</td>\n",
       "      <td>1</td>\n",
       "      <td>NaN</td>\n",
       "    </tr>\n",
       "    <tr>\n",
       "      <th>188570</th>\n",
       "      <td>9.230000</td>\n",
       "      <td>525.0</td>\n",
       "      <td>632.0</td>\n",
       "      <td>3</td>\n",
       "      <td>1</td>\n",
       "      <td>NaN</td>\n",
       "    </tr>\n",
       "    <tr>\n",
       "      <th>188571</th>\n",
       "      <td>10.070000</td>\n",
       "      <td>336.0</td>\n",
       "      <td>372.0</td>\n",
       "      <td>4</td>\n",
       "      <td>1</td>\n",
       "      <td>NaN</td>\n",
       "    </tr>\n",
       "  </tbody>\n",
       "</table>\n",
       "<p>188572 rows × 6 columns</p>\n",
       "</div>"
      ],
      "text/plain": [
       "        yield_daliy  activity_daliy  chew_daliy  lactation_days  \\\n",
       "0         36.905998           386.0       635.0              16   \n",
       "1         40.021999           393.0       654.0              17   \n",
       "2         39.776001           410.0       665.0              18   \n",
       "3         41.172001           382.0       564.0              19   \n",
       "4         38.122002           383.0       393.0              20   \n",
       "...             ...             ...         ...             ...   \n",
       "188567     6.160000           422.0       113.0               0   \n",
       "188568     7.500000           607.0       245.0               1   \n",
       "188569    14.750000           526.0       474.0               2   \n",
       "188570     9.230000           525.0       632.0               3   \n",
       "188571    10.070000           336.0       372.0               4   \n",
       "\n",
       "        lactation_period disease_status  \n",
       "0                      5            NaN  \n",
       "1                      5            NaN  \n",
       "2                      5            NaN  \n",
       "3                      5            NaN  \n",
       "4                      5            NaN  \n",
       "...                  ...            ...  \n",
       "188567                 1            NaN  \n",
       "188568                 1            NaN  \n",
       "188569                 1            NaN  \n",
       "188570                 1            NaN  \n",
       "188571                 1            NaN  \n",
       "\n",
       "[188572 rows x 6 columns]"
      ]
     },
     "execution_count": 4,
     "metadata": {},
     "output_type": "execute_result"
    }
   ],
   "source": [
    "data.info()\n",
    "data.describe()\n",
    "data"
   ]
  },
  {
   "cell_type": "code",
   "execution_count": 5,
   "metadata": {},
   "outputs": [
    {
     "data": {
      "text/plain": [
       "乳房疾病      634\n",
       "生殖系统      423\n",
       "自定义疾病     244\n",
       "消化系统       51\n",
       "营养代谢系统     46\n",
       "Name: disease_status, dtype: int64"
      ]
     },
     "execution_count": 5,
     "metadata": {},
     "output_type": "execute_result"
    }
   ],
   "source": [
    "# 删除非常见的疾病类型\n",
    "del_dis = [\"传染病\", \"应激与过敏\", \"神经系统\", \"四肢疾病\", \"泌尿系统\"]\n",
    "for dis in del_dis:\n",
    "    data.drop(data[data[\"disease_status\"] == dis.strip()].index, axis=0, inplace=True)\n",
    "\n",
    "data[\"disease_status\"].value_counts()"
   ]
  },
  {
   "cell_type": "code",
   "execution_count": 6,
   "metadata": {},
   "outputs": [
    {
     "data": {
      "text/plain": [
       "0    0.992585\n",
       "1    0.007415\n",
       "Name: disease_status, dtype: float64"
      ]
     },
     "execution_count": 6,
     "metadata": {},
     "output_type": "execute_result"
    }
   ],
   "source": [
    "# 替换为 0/1\n",
    "data[\"disease_status\"].fillna(0, inplace=True)\n",
    "data[\"disease_status\"] = data[\"disease_status\"].apply(lambda x: 1 if x else 0)\n",
    "data[\"disease_status\"].value_counts(normalize=True)"
   ]
  },
  {
   "cell_type": "code",
   "execution_count": 7,
   "metadata": {},
   "outputs": [
    {
     "data": {
      "text/html": [
       "<div>\n",
       "<style scoped>\n",
       "    .dataframe tbody tr th:only-of-type {\n",
       "        vertical-align: middle;\n",
       "    }\n",
       "\n",
       "    .dataframe tbody tr th {\n",
       "        vertical-align: top;\n",
       "    }\n",
       "\n",
       "    .dataframe thead th {\n",
       "        text-align: right;\n",
       "    }\n",
       "</style>\n",
       "<table border=\"1\" class=\"dataframe\">\n",
       "  <thead>\n",
       "    <tr style=\"text-align: right;\">\n",
       "      <th></th>\n",
       "      <th>yield_daliy</th>\n",
       "      <th>activity_daliy</th>\n",
       "      <th>chew_daliy</th>\n",
       "      <th>lactation_days</th>\n",
       "      <th>lactation_period</th>\n",
       "      <th>disease_status</th>\n",
       "    </tr>\n",
       "  </thead>\n",
       "  <tbody>\n",
       "    <tr>\n",
       "      <th>11959</th>\n",
       "      <td>45.544998</td>\n",
       "      <td>443.0</td>\n",
       "      <td>512.0</td>\n",
       "      <td>88</td>\n",
       "      <td>6</td>\n",
       "      <td>0</td>\n",
       "    </tr>\n",
       "    <tr>\n",
       "      <th>165594</th>\n",
       "      <td>50.339001</td>\n",
       "      <td>458.0</td>\n",
       "      <td>517.0</td>\n",
       "      <td>188</td>\n",
       "      <td>1</td>\n",
       "      <td>0</td>\n",
       "    </tr>\n",
       "    <tr>\n",
       "      <th>43428</th>\n",
       "      <td>20.510000</td>\n",
       "      <td>438.0</td>\n",
       "      <td>560.0</td>\n",
       "      <td>245</td>\n",
       "      <td>3</td>\n",
       "      <td>0</td>\n",
       "    </tr>\n",
       "    <tr>\n",
       "      <th>120161</th>\n",
       "      <td>46.633999</td>\n",
       "      <td>557.0</td>\n",
       "      <td>615.0</td>\n",
       "      <td>71</td>\n",
       "      <td>2</td>\n",
       "      <td>0</td>\n",
       "    </tr>\n",
       "    <tr>\n",
       "      <th>23935</th>\n",
       "      <td>49.997002</td>\n",
       "      <td>566.0</td>\n",
       "      <td>603.0</td>\n",
       "      <td>240</td>\n",
       "      <td>5</td>\n",
       "      <td>0</td>\n",
       "    </tr>\n",
       "    <tr>\n",
       "      <th>...</th>\n",
       "      <td>...</td>\n",
       "      <td>...</td>\n",
       "      <td>...</td>\n",
       "      <td>...</td>\n",
       "      <td>...</td>\n",
       "      <td>...</td>\n",
       "    </tr>\n",
       "    <tr>\n",
       "      <th>129706</th>\n",
       "      <td>0.000000</td>\n",
       "      <td>615.0</td>\n",
       "      <td>564.0</td>\n",
       "      <td>0</td>\n",
       "      <td>2</td>\n",
       "      <td>0</td>\n",
       "    </tr>\n",
       "    <tr>\n",
       "      <th>28723</th>\n",
       "      <td>7.256000</td>\n",
       "      <td>433.0</td>\n",
       "      <td>514.0</td>\n",
       "      <td>279</td>\n",
       "      <td>5</td>\n",
       "      <td>0</td>\n",
       "    </tr>\n",
       "    <tr>\n",
       "      <th>61734</th>\n",
       "      <td>38.740002</td>\n",
       "      <td>463.0</td>\n",
       "      <td>673.0</td>\n",
       "      <td>259</td>\n",
       "      <td>3</td>\n",
       "      <td>0</td>\n",
       "    </tr>\n",
       "    <tr>\n",
       "      <th>68371</th>\n",
       "      <td>25.410000</td>\n",
       "      <td>450.0</td>\n",
       "      <td>606.0</td>\n",
       "      <td>644</td>\n",
       "      <td>2</td>\n",
       "      <td>0</td>\n",
       "    </tr>\n",
       "    <tr>\n",
       "      <th>186903</th>\n",
       "      <td>36.040001</td>\n",
       "      <td>540.0</td>\n",
       "      <td>506.0</td>\n",
       "      <td>63</td>\n",
       "      <td>1</td>\n",
       "      <td>0</td>\n",
       "    </tr>\n",
       "  </tbody>\n",
       "</table>\n",
       "<p>3000 rows × 6 columns</p>\n",
       "</div>"
      ],
      "text/plain": [
       "        yield_daliy  activity_daliy  chew_daliy  lactation_days  \\\n",
       "11959     45.544998           443.0       512.0              88   \n",
       "165594    50.339001           458.0       517.0             188   \n",
       "43428     20.510000           438.0       560.0             245   \n",
       "120161    46.633999           557.0       615.0              71   \n",
       "23935     49.997002           566.0       603.0             240   \n",
       "...             ...             ...         ...             ...   \n",
       "129706     0.000000           615.0       564.0               0   \n",
       "28723      7.256000           433.0       514.0             279   \n",
       "61734     38.740002           463.0       673.0             259   \n",
       "68371     25.410000           450.0       606.0             644   \n",
       "186903    36.040001           540.0       506.0              63   \n",
       "\n",
       "        lactation_period  disease_status  \n",
       "11959                  6               0  \n",
       "165594                 1               0  \n",
       "43428                  3               0  \n",
       "120161                 2               0  \n",
       "23935                  5               0  \n",
       "...                  ...             ...  \n",
       "129706                 2               0  \n",
       "28723                  5               0  \n",
       "61734                  3               0  \n",
       "68371                  2               0  \n",
       "186903                 1               0  \n",
       "\n",
       "[3000 rows x 6 columns]"
      ]
     },
     "execution_count": 7,
     "metadata": {},
     "output_type": "execute_result"
    }
   ],
   "source": [
    "# 正负样本\n",
    "data_0 = data[data[\"disease_status\"] == 0]\n",
    "data_1 = data[data[\"disease_status\"] == 1]\n",
    "\n",
    "# 选择 3000 个负样本\n",
    "index_0 = np.random.choice(data_0.shape[0], 3000)\n",
    "\n",
    "data_0.iloc[index_0]"
   ]
  },
  {
   "attachments": {},
   "cell_type": "markdown",
   "metadata": {},
   "source": [
    "## 训练模型"
   ]
  },
  {
   "cell_type": "code",
   "execution_count": 8,
   "metadata": {},
   "outputs": [],
   "source": [
    "data.dropna(inplace=True)\n",
    "y = data[[\"disease_status\"]]\n",
    "X = data.drop(\"disease_status\", axis=1)\n",
    "\n",
    "SEED = 666\n",
    "\n",
    "X_train, X_test, y_train, y_test = train_test_split(\n",
    "    X, y, test_size=0.3, random_state=SEED\n",
    ")"
   ]
  },
  {
   "cell_type": "code",
   "execution_count": 9,
   "metadata": {},
   "outputs": [],
   "source": [
    "scaler = StandardScaler()\n",
    "X_train_std = scaler.fit_transform(X_train)\n",
    "X_test_std = scaler.fit_transform(pd.DataFrame(X_test))"
   ]
  },
  {
   "cell_type": "code",
   "execution_count": 10,
   "metadata": {},
   "outputs": [],
   "source": [
    "def plot_AUC(model, X_test, y_test):\n",
    "    \"\"\"绘制 AUC 曲线\"\"\"\n",
    "    probs = model.predict_proba(X_test)\n",
    "    preds = probs[:, 1]\n",
    "    fpr, tpr, threshold = metrics.roc_curve(y_test, preds)\n",
    "    roc_auc = metrics.auc(fpr, tpr)\n",
    "\n",
    "    plt.title(\"Receiver Operating Characteristic\")\n",
    "    plt.plot(fpr, tpr, \"b\", label=\"AUC = %0.2f\" % roc_auc)\n",
    "    plt.legend(loc=\"lower right\")\n",
    "    plt.plot([0, 1], [0, 1], \"r--\")\n",
    "    plt.xlim([0, 1])\n",
    "    plt.ylim([0, 1])\n",
    "    plt.ylabel(\"True Positive Rate\")\n",
    "    plt.xlabel(\"False Positive Rate\")\n",
    "    plt.show()\n",
    "\n",
    "def make_brf_modle(X_train, y_train, X_test, y_test):\n",
    "    BRF = BalancedRandomForestClassifier(\n",
    "        n_estimators=5,\n",
    "        criterion=\"gini\",\n",
    "        max_depth=None,\n",
    "        min_samples_split=2,\n",
    "        min_samples_leaf=2,\n",
    "        min_weight_fraction_leaf=0,\n",
    "        max_features=\"auto\",\n",
    "        min_impurity_decrease=0,\n",
    "        bootstrap=True,\n",
    "        oob_score=False,\n",
    "        sampling_strategy=\"auto\",\n",
    "        replacement=False,\n",
    "        n_jobs=1,\n",
    "        random_state=SEED,\n",
    "        verbose=2,\n",
    "        warm_start=False,\n",
    "        class_weight=None,\n",
    "    )\n",
    "    BRF.fit(X_train, y_train)\n",
    "    print(f\"score:{classification_report(y_test,BRF.predict(X_test))}\")\n",
    "\n",
    "    return BRF\n",
    "\n",
    "\n",
    "def make_bbc_model(X_train, y_train, X_test, y_test):\n",
    "    bbc = BalancedBaggingClassifier(\n",
    "        estimator=DecisionTreeClassifier(),\n",
    "        sampling_strategy=\"auto\",\n",
    "        replacement=True,\n",
    "        random_state=SEED,\n",
    "    )\n",
    "    bbc.fit(X_train, y_train)\n",
    "    print(f\"score:{classification_report(y_test,bbc.predict(X_test))}\")\n",
    "    return bbc"
   ]
  },
  {
   "attachments": {},
   "cell_type": "markdown",
   "metadata": {},
   "source": [
    "## BalancedBaggingClassifier"
   ]
  },
  {
   "cell_type": "code",
   "execution_count": 11,
   "metadata": {},
   "outputs": [
    {
     "name": "stderr",
     "output_type": "stream",
     "text": [
      "d:\\Program\\Python3.10\\lib\\site-packages\\sklearn\\ensemble\\_bagging.py:802: DataConversionWarning: A column-vector y was passed when a 1d array was expected. Please change the shape of y to (n_samples, ), for example using ravel().\n",
      "  y = column_or_1d(y, warn=True)\n"
     ]
    },
    {
     "name": "stdout",
     "output_type": "stream",
     "text": [
      "score:              precision    recall  f1-score   support\n",
      "\n",
      "           0       1.00      0.92      0.96     56114\n",
      "           1       0.07      0.77      0.12       419\n",
      "\n",
      "    accuracy                           0.92     56533\n",
      "   macro avg       0.53      0.85      0.54     56533\n",
      "weighted avg       0.99      0.92      0.95     56533\n",
      "\n"
     ]
    }
   ],
   "source": [
    "# bbc = make_bbc_model(X_train, y_train, X_test, y_test)\n",
    "bbc = make_bbc_model(X_train_std, y_train, X_test_std, y_test)"
   ]
  },
  {
   "cell_type": "code",
   "execution_count": 12,
   "metadata": {},
   "outputs": [
    {
     "data": {
      "image/png": "[encoded data removed]",
      "text/plain": [
       "<Figure size 640x480 with 1 Axes>"
      ]
     },
     "metadata": {},
     "output_type": "display_data"
    },
    {
     "data": {
      "image/png": "[encoded data removed]",
      "text/plain": [
       "<Figure size 640x480 with 2 Axes>"
      ]
     },
     "metadata": {},
     "output_type": "display_data"
    }
   ],
   "source": [
    "# plot_AUC(bbc, X_test, y_test)\n",
    "# plot_confusion_matrix(y_test, bbc.predict(X_test))\n",
    "plot_AUC(bbc, X_test_std, y_test)\n",
    "plot_confusion_matrix(y_test, bbc.predict(X_test_std))"
   ]
  },
  {
   "attachments": {},
   "cell_type": "markdown",
   "metadata": {},
   "source": [
    "## BalancedRandomForestClassifier"
   ]
  },
  {
   "cell_type": "code",
   "execution_count": 13,
   "metadata": {},
   "outputs": [
    {
     "name": "stdout",
     "output_type": "stream",
     "text": [
      "building tree 1 of 5\n",
      "building tree 2 of 5\n",
      "building tree 3 of 5\n",
      "building tree 4 of 5\n",
      "building tree 5 of 5\n",
      "score:              precision    recall  f1-score   support\n",
      "\n",
      "           0       1.00      0.85      0.92     56114\n",
      "           1       0.04      0.82      0.07       419\n",
      "\n",
      "    accuracy                           0.85     56533\n",
      "   macro avg       0.52      0.83      0.50     56533\n",
      "weighted avg       0.99      0.85      0.91     56533\n",
      "\n"
     ]
    },
    {
     "name": "stderr",
     "output_type": "stream",
     "text": [
      "C:\\Users\\10069\\AppData\\Local\\Temp\\ipykernel_11380\\2399802099.py:38: DataConversionWarning: A column-vector y was passed when a 1d array was expected. Please change the shape of y to (n_samples,), for example using ravel().\n",
      "  BRF.fit(X_train, y_train)\n",
      "[Parallel(n_jobs=1)]: Using backend SequentialBackend with 1 concurrent workers.\n",
      "d:\\Program\\Python3.10\\lib\\site-packages\\sklearn\\utils\\deprecation.py:86: FutureWarning: Function delayed is deprecated; The function `delayed` has been moved from `sklearn.utils.fixes` to `sklearn.utils.parallel`. This import path will be removed in 1.5.\n",
      "  warnings.warn(msg, category=FutureWarning)\n",
      "d:\\Program\\Python3.10\\lib\\site-packages\\sklearn\\utils\\parallel.py:114: UserWarning: `sklearn.utils.parallel.delayed` should be used with `sklearn.utils.parallel.Parallel` to make it possible to propagate the scikit-learn configuration of the current thread to the joblib workers.\n",
      "  warnings.warn(\n",
      "d:\\Program\\Python3.10\\lib\\site-packages\\sklearn\\tree\\_classes.py:269: FutureWarning: `max_features='auto'` has been deprecated in 1.1 and will be removed in 1.3. To keep the past behaviour, explicitly set `max_features='sqrt'`.\n",
      "  warnings.warn(\n",
      "[Parallel(n_jobs=1)]: Done   1 out of   1 | elapsed:    0.0s remaining:    0.0s\n",
      "d:\\Program\\Python3.10\\lib\\site-packages\\sklearn\\utils\\deprecation.py:86: FutureWarning: Function delayed is deprecated; The function `delayed` has been moved from `sklearn.utils.fixes` to `sklearn.utils.parallel`. This import path will be removed in 1.5.\n",
      "  warnings.warn(msg, category=FutureWarning)\n",
      "d:\\Program\\Python3.10\\lib\\site-packages\\sklearn\\utils\\parallel.py:114: UserWarning: `sklearn.utils.parallel.delayed` should be used with `sklearn.utils.parallel.Parallel` to make it possible to propagate the scikit-learn configuration of the current thread to the joblib workers.\n",
      "  warnings.warn(\n",
      "d:\\Program\\Python3.10\\lib\\site-packages\\sklearn\\tree\\_classes.py:269: FutureWarning: `max_features='auto'` has been deprecated in 1.1 and will be removed in 1.3. To keep the past behaviour, explicitly set `max_features='sqrt'`.\n",
      "  warnings.warn(\n",
      "d:\\Program\\Python3.10\\lib\\site-packages\\sklearn\\utils\\deprecation.py:86: FutureWarning: Function delayed is deprecated; The function `delayed` has been moved from `sklearn.utils.fixes` to `sklearn.utils.parallel`. This import path will be removed in 1.5.\n",
      "  warnings.warn(msg, category=FutureWarning)\n",
      "d:\\Program\\Python3.10\\lib\\site-packages\\sklearn\\utils\\parallel.py:114: UserWarning: `sklearn.utils.parallel.delayed` should be used with `sklearn.utils.parallel.Parallel` to make it possible to propagate the scikit-learn configuration of the current thread to the joblib workers.\n",
      "  warnings.warn(\n",
      "d:\\Program\\Python3.10\\lib\\site-packages\\sklearn\\tree\\_classes.py:269: FutureWarning: `max_features='auto'` has been deprecated in 1.1 and will be removed in 1.3. To keep the past behaviour, explicitly set `max_features='sqrt'`.\n",
      "  warnings.warn(\n",
      "d:\\Program\\Python3.10\\lib\\site-packages\\sklearn\\utils\\deprecation.py:86: FutureWarning: Function delayed is deprecated; The function `delayed` has been moved from `sklearn.utils.fixes` to `sklearn.utils.parallel`. This import path will be removed in 1.5.\n",
      "  warnings.warn(msg, category=FutureWarning)\n",
      "d:\\Program\\Python3.10\\lib\\site-packages\\sklearn\\utils\\parallel.py:114: UserWarning: `sklearn.utils.parallel.delayed` should be used with `sklearn.utils.parallel.Parallel` to make it possible to propagate the scikit-learn configuration of the current thread to the joblib workers.\n",
      "  warnings.warn(\n",
      "d:\\Program\\Python3.10\\lib\\site-packages\\sklearn\\tree\\_classes.py:269: FutureWarning: `max_features='auto'` has been deprecated in 1.1 and will be removed in 1.3. To keep the past behaviour, explicitly set `max_features='sqrt'`.\n",
      "  warnings.warn(\n",
      "d:\\Program\\Python3.10\\lib\\site-packages\\sklearn\\utils\\deprecation.py:86: FutureWarning: Function delayed is deprecated; The function `delayed` has been moved from `sklearn.utils.fixes` to `sklearn.utils.parallel`. This import path will be removed in 1.5.\n",
      "  warnings.warn(msg, category=FutureWarning)\n",
      "d:\\Program\\Python3.10\\lib\\site-packages\\sklearn\\utils\\parallel.py:114: UserWarning: `sklearn.utils.parallel.delayed` should be used with `sklearn.utils.parallel.Parallel` to make it possible to propagate the scikit-learn configuration of the current thread to the joblib workers.\n",
      "  warnings.warn(\n",
      "d:\\Program\\Python3.10\\lib\\site-packages\\sklearn\\tree\\_classes.py:269: FutureWarning: `max_features='auto'` has been deprecated in 1.1 and will be removed in 1.3. To keep the past behaviour, explicitly set `max_features='sqrt'`.\n",
      "  warnings.warn(\n",
      "[Parallel(n_jobs=1)]: Done   5 out of   5 | elapsed:    0.0s finished\n",
      "[Parallel(n_jobs=1)]: Using backend SequentialBackend with 1 concurrent workers.\n",
      "[Parallel(n_jobs=1)]: Done   1 out of   1 | elapsed:    0.0s remaining:    0.0s\n",
      "[Parallel(n_jobs=1)]: Done   5 out of   5 | elapsed:    0.0s finished\n"
     ]
    }
   ],
   "source": [
    "# brf = make_brf_modle(X_train, y_train, X_test, y_test)\n",
    "brf = make_brf_modle(X_train_std, y_train, X_test_std, y_test)"
   ]
  },
  {
   "cell_type": "code",
   "execution_count": 14,
   "metadata": {},
   "outputs": [
    {
     "name": "stderr",
     "output_type": "stream",
     "text": [
      "[Parallel(n_jobs=1)]: Using backend SequentialBackend with 1 concurrent workers.\n",
      "[Parallel(n_jobs=1)]: Done   1 out of   1 | elapsed:    0.0s remaining:    0.0s\n",
      "[Parallel(n_jobs=1)]: Done   5 out of   5 | elapsed:    0.0s finished\n"
     ]
    },
    {
     "data": {
      "image/png": "[encoded data removed]",
      "text/plain": [
       "<Figure size 640x480 with 1 Axes>"
      ]
     },
     "metadata": {},
     "output_type": "display_data"
    },
    {
     "name": "stderr",
     "output_type": "stream",
     "text": [
      "[Parallel(n_jobs=1)]: Using backend SequentialBackend with 1 concurrent workers.\n",
      "[Parallel(n_jobs=1)]: Done   1 out of   1 | elapsed:    0.0s remaining:    0.0s\n",
      "[Parallel(n_jobs=1)]: Done   5 out of   5 | elapsed:    0.0s finished\n"
     ]
    },
    {
     "data": {
      "image/png": "[encoded data removed]",
      "text/plain": [
       "<Figure size 640x480 with 2 Axes>"
      ]
     },
     "metadata": {},
     "output_type": "display_data"
    }
   ],
   "source": [
    "# plot_AUC(brf, X_test, y_test)\n",
    "# plot_confusion_matrix(y_test, brf.predict(X_test))\n",
    "plot_AUC(brf, X_test_std, y_test)\n",
    "plot_confusion_matrix(y_test, brf.predict(X_test_std))"
   ]
  },
  {
   "attachments": {},
   "cell_type": "markdown",
   "metadata": {},
   "source": [
    "## XGBClassifier"
   ]
  },
  {
   "cell_type": "code",
   "execution_count": 15,
   "metadata": {},
   "outputs": [],
   "source": [
    "def make_xgb_model(X_train, y_train, X_test, y_test):\n",
    "    xgb = XGBClassifier(\n",
    "        eval_metrics=[\"logloss\", \"auc\", \"error\"],\n",
    "        learning_rate=0.05,\n",
    "        n_estimators=1000,\n",
    "        max_depth=5,\n",
    "        min_child_weight=1,\n",
    "        gamma=0,\n",
    "        subsample=0.7,\n",
    "        colsample_bytree=0.7,\n",
    "        objective=\"binary:logistic\",\n",
    "        scale_pos_weight=1000,\n",
    "        nthread=4,\n",
    "        seed=SEED,\n",
    "    )\n",
    "    xgb.fit(X_train, y_train)\n",
    "    print(f\"score:{classification_report(y_test,xgb.predict(X_test))}\")\n",
    "    return xgb"
   ]
  },
  {
   "cell_type": "code",
   "execution_count": 16,
   "metadata": {},
   "outputs": [
    {
     "name": "stdout",
     "output_type": "stream",
     "text": [
      "[23:34:33] WARNING: C:\\buildkite-agent\\builds\\buildkite-windows-cpu-autoscaling-group-i-07593ffd91cd9da33-1\\xgboost\\xgboost-ci-windows\\src\\learner.cc:767: \n",
      "Parameters: { \"eval_metrics\" } are not used.\n",
      "\n",
      "score:              precision    recall  f1-score   support\n",
      "\n",
      "           0       1.00      0.94      0.97     56114\n",
      "           1       0.08      0.76      0.15       419\n",
      "\n",
      "    accuracy                           0.93     56533\n",
      "   macro avg       0.54      0.85      0.56     56533\n",
      "weighted avg       0.99      0.93      0.96     56533\n",
      "\n"
     ]
    }
   ],
   "source": [
    "# xgb = make_xgb_model(X_train, y_train, X_test, y_test)\n",
    "xgb = make_xgb_model(X_train_std, y_train, X_test_std, y_test)"
   ]
  },
  {
   "cell_type": "code",
   "execution_count": 17,
   "metadata": {},
   "outputs": [
    {
     "data": {
      "image/png": "[encoded data removed]",
      "text/plain": [
       "<Figure size 640x480 with 1 Axes>"
      ]
     },
     "metadata": {},
     "output_type": "display_data"
    },
    {
     "data": {
      "image/png": "[encoded data removed]",
      "text/plain": [
       "<Figure size 640x480 with 2 Axes>"
      ]
     },
     "metadata": {},
     "output_type": "display_data"
    }
   ],
   "source": [
    "# plot_AUC(xgb, X_test, y_test)\n",
    "# plot_confusion_matrix(y_test, xgb.predict(X_test))\n",
    "plot_AUC(xgb, X_test_std, y_test)\n",
    "plot_confusion_matrix(y_test, xgb.predict(X_test_std))"
   ]
  },
  {
   "attachments": {},
   "cell_type": "markdown",
   "metadata": {},
   "source": [
    "## 疾病分类"
   ]
  },
  {
   "cell_type": "code",
   "execution_count": 18,
   "metadata": {},
   "outputs": [],
   "source": [
    "data2 = pd.read_csv(\"../data/sample_test.csv\", usecols=usecols)"
   ]
  },
  {
   "cell_type": "code",
   "execution_count": 19,
   "metadata": {},
   "outputs": [
    {
     "data": {
      "text/html": [
       "<div>\n",
       "<style scoped>\n",
       "    .dataframe tbody tr th:only-of-type {\n",
       "        vertical-align: middle;\n",
       "    }\n",
       "\n",
       "    .dataframe tbody tr th {\n",
       "        vertical-align: top;\n",
       "    }\n",
       "\n",
       "    .dataframe thead th {\n",
       "        text-align: right;\n",
       "    }\n",
       "</style>\n",
       "<table border=\"1\" class=\"dataframe\">\n",
       "  <thead>\n",
       "    <tr style=\"text-align: right;\">\n",
       "      <th></th>\n",
       "      <th>yield_daliy</th>\n",
       "      <th>activity_daliy</th>\n",
       "      <th>chew_daliy</th>\n",
       "      <th>lactation_days</th>\n",
       "      <th>lactation_period</th>\n",
       "      <th>disease_status</th>\n",
       "    </tr>\n",
       "  </thead>\n",
       "  <tbody>\n",
       "    <tr>\n",
       "      <th>928</th>\n",
       "      <td>22.277000</td>\n",
       "      <td>510.0</td>\n",
       "      <td>430.0</td>\n",
       "      <td>36</td>\n",
       "      <td>5</td>\n",
       "      <td>乳房疾病</td>\n",
       "    </tr>\n",
       "    <tr>\n",
       "      <th>929</th>\n",
       "      <td>16.101999</td>\n",
       "      <td>496.0</td>\n",
       "      <td>373.0</td>\n",
       "      <td>37</td>\n",
       "      <td>5</td>\n",
       "      <td>乳房疾病</td>\n",
       "    </tr>\n",
       "    <tr>\n",
       "      <th>930</th>\n",
       "      <td>29.773001</td>\n",
       "      <td>484.0</td>\n",
       "      <td>515.0</td>\n",
       "      <td>38</td>\n",
       "      <td>5</td>\n",
       "      <td>乳房疾病</td>\n",
       "    </tr>\n",
       "    <tr>\n",
       "      <th>931</th>\n",
       "      <td>39.073002</td>\n",
       "      <td>506.0</td>\n",
       "      <td>541.0</td>\n",
       "      <td>39</td>\n",
       "      <td>5</td>\n",
       "      <td>乳房疾病</td>\n",
       "    </tr>\n",
       "    <tr>\n",
       "      <th>1622</th>\n",
       "      <td>19.900000</td>\n",
       "      <td>428.0</td>\n",
       "      <td>564.0</td>\n",
       "      <td>51</td>\n",
       "      <td>5</td>\n",
       "      <td>乳房疾病</td>\n",
       "    </tr>\n",
       "    <tr>\n",
       "      <th>...</th>\n",
       "      <td>...</td>\n",
       "      <td>...</td>\n",
       "      <td>...</td>\n",
       "      <td>...</td>\n",
       "      <td>...</td>\n",
       "      <td>...</td>\n",
       "    </tr>\n",
       "    <tr>\n",
       "      <th>186917</th>\n",
       "      <td>13.850000</td>\n",
       "      <td>486.0</td>\n",
       "      <td>394.0</td>\n",
       "      <td>19</td>\n",
       "      <td>1</td>\n",
       "      <td>生殖系统</td>\n",
       "    </tr>\n",
       "    <tr>\n",
       "      <th>186996</th>\n",
       "      <td>39.389999</td>\n",
       "      <td>539.0</td>\n",
       "      <td>563.0</td>\n",
       "      <td>24</td>\n",
       "      <td>1</td>\n",
       "      <td>生殖系统</td>\n",
       "    </tr>\n",
       "    <tr>\n",
       "      <th>186997</th>\n",
       "      <td>34.597000</td>\n",
       "      <td>536.0</td>\n",
       "      <td>657.0</td>\n",
       "      <td>25</td>\n",
       "      <td>1</td>\n",
       "      <td>生殖系统</td>\n",
       "    </tr>\n",
       "    <tr>\n",
       "      <th>186998</th>\n",
       "      <td>35.306999</td>\n",
       "      <td>513.0</td>\n",
       "      <td>638.0</td>\n",
       "      <td>26</td>\n",
       "      <td>1</td>\n",
       "      <td>生殖系统</td>\n",
       "    </tr>\n",
       "    <tr>\n",
       "      <th>186999</th>\n",
       "      <td>40.227001</td>\n",
       "      <td>502.0</td>\n",
       "      <td>659.0</td>\n",
       "      <td>27</td>\n",
       "      <td>1</td>\n",
       "      <td>生殖系统</td>\n",
       "    </tr>\n",
       "  </tbody>\n",
       "</table>\n",
       "<p>1442 rows × 6 columns</p>\n",
       "</div>"
      ],
      "text/plain": [
       "        yield_daliy  activity_daliy  chew_daliy  lactation_days  \\\n",
       "928       22.277000           510.0       430.0              36   \n",
       "929       16.101999           496.0       373.0              37   \n",
       "930       29.773001           484.0       515.0              38   \n",
       "931       39.073002           506.0       541.0              39   \n",
       "1622      19.900000           428.0       564.0              51   \n",
       "...             ...             ...         ...             ...   \n",
       "186917    13.850000           486.0       394.0              19   \n",
       "186996    39.389999           539.0       563.0              24   \n",
       "186997    34.597000           536.0       657.0              25   \n",
       "186998    35.306999           513.0       638.0              26   \n",
       "186999    40.227001           502.0       659.0              27   \n",
       "\n",
       "        lactation_period disease_status  \n",
       "928                    5           乳房疾病  \n",
       "929                    5           乳房疾病  \n",
       "930                    5           乳房疾病  \n",
       "931                    5           乳房疾病  \n",
       "1622                   5           乳房疾病  \n",
       "...                  ...            ...  \n",
       "186917                 1           生殖系统  \n",
       "186996                 1           生殖系统  \n",
       "186997                 1           生殖系统  \n",
       "186998                 1           生殖系统  \n",
       "186999                 1           生殖系统  \n",
       "\n",
       "[1442 rows x 6 columns]"
      ]
     },
     "execution_count": 19,
     "metadata": {},
     "output_type": "execute_result"
    }
   ],
   "source": [
    "data2_notnull = data2[data2[\"disease_status\"].notnull()]\n",
    "data2_notnull"
   ]
  },
  {
   "cell_type": "code",
   "execution_count": 20,
   "metadata": {},
   "outputs": [
    {
     "name": "stderr",
     "output_type": "stream",
     "text": [
      "C:\\Users\\10069\\AppData\\Local\\Temp\\ipykernel_11380\\2621545667.py:3: SettingWithCopyWarning: \n",
      "A value is trying to be set on a copy of a slice from a DataFrame\n",
      "\n",
      "See the caveats in the documentation: https://pandas.pydata.org/pandas-docs/stable/user_guide/indexing.html#returning-a-view-versus-a-copy\n",
      "  data2_notnull.drop(\n"
     ]
    },
    {
     "data": {
      "text/plain": [
       "乳房疾病      634\n",
       "生殖系统      423\n",
       "自定义疾病     244\n",
       "消化系统       51\n",
       "营养代谢系统     46\n",
       "Name: disease_status, dtype: int64"
      ]
     },
     "execution_count": 20,
     "metadata": {},
     "output_type": "execute_result"
    }
   ],
   "source": [
    "del_dis = [\"传染病\", \"应激与过敏\", \"神经系统\", \"四肢疾病\", \"泌尿系统\"]\n",
    "for dis in del_dis:\n",
    "    data2_notnull.drop(\n",
    "        data2_notnull[data2_notnull[\"disease_status\"] == dis].index,\n",
    "        axis=0,\n",
    "        inplace=True,\n",
    "    )\n",
    "data2_notnull[\"disease_status\"].value_counts()"
   ]
  },
  {
   "cell_type": "code",
   "execution_count": 21,
   "metadata": {},
   "outputs": [
    {
     "data": {
      "text/plain": [
       "{'乳房疾病': 0, '消化系统': 1, '自定义疾病': 2, '生殖系统': 3, '营养代谢系统': 4}"
      ]
     },
     "execution_count": 21,
     "metadata": {},
     "output_type": "execute_result"
    }
   ],
   "source": [
    "dt = {v: k for k, v in enumerate(data2_notnull[\"disease_status\"].unique())}\n",
    "dt"
   ]
  },
  {
   "cell_type": "code",
   "execution_count": 22,
   "metadata": {},
   "outputs": [
    {
     "name": "stderr",
     "output_type": "stream",
     "text": [
      "C:\\Users\\10069\\AppData\\Local\\Temp\\ipykernel_11380\\1305538953.py:1: SettingWithCopyWarning: \n",
      "A value is trying to be set on a copy of a slice from a DataFrame.\n",
      "Try using .loc[row_indexer,col_indexer] = value instead\n",
      "\n",
      "See the caveats in the documentation: https://pandas.pydata.org/pandas-docs/stable/user_guide/indexing.html#returning-a-view-versus-a-copy\n",
      "  data2_notnull[\"cls\"] = data2_notnull[\"disease_status\"].map(dt)\n"
     ]
    },
    {
     "data": {
      "text/plain": [
       "0    634\n",
       "3    423\n",
       "2    244\n",
       "1     51\n",
       "4     46\n",
       "Name: cls, dtype: int64"
      ]
     },
     "execution_count": 22,
     "metadata": {},
     "output_type": "execute_result"
    }
   ],
   "source": [
    "data2_notnull[\"cls\"] = data2_notnull[\"disease_status\"].map(dt)\n",
    "data_dis = data2_notnull.drop(columns=\"disease_status\")\n",
    "data_dis[\"cls\"].value_counts()"
   ]
  },
  {
   "attachments": {},
   "cell_type": "markdown",
   "metadata": {},
   "source": [
    "构建分类模型，将疾病分为以下几类：\n",
    "\n",
    "0. 乳房疾病\n",
    "1. 消化系统\n",
    "2. 自定义疾病\n",
    "3. 生殖系统\n",
    "4. 营养代谢系统"
   ]
  },
  {
   "cell_type": "code",
   "execution_count": 23,
   "metadata": {},
   "outputs": [],
   "source": [
    "data_dis.dropna(axis=0, inplace=True)\n",
    "X_dis = data_dis.drop(columns=\"cls\")\n",
    "y_dis = data_dis[\"cls\"]\n",
    "\n",
    "X_train_dis, X_test_dis, y_train_dis, y_test_dis = train_test_split(\n",
    "    X_dis, y_dis, test_size=0.2, random_state=SEED\n",
    ")\n",
    "\n",
    "X_train_std = scaler.fit_transform(X_train_dis)\n",
    "X_test_std = scaler.transform(X_test_dis)"
   ]
  },
  {
   "cell_type": "code",
   "execution_count": 24,
   "metadata": {},
   "outputs": [],
   "source": [
    "def plot_confusion_matrix_multi(y_test, y_pred):\n",
    "    cm = confusion_matrix(y_test, y_pred)\n",
    "    plt.matshow(cm, cmap=\"Blues\")\n",
    "    plt.colorbar()\n",
    "    for x in range(len(cm)):\n",
    "        for y in range(len(cm)):\n",
    "            plt.annotate(\n",
    "                cm[x, y],\n",
    "                xy=(x, y),\n",
    "                horizontalalignment=\"center\",\n",
    "                verticalalignment=\"center\",\n",
    "            )\n",
    "    plt.ylabel(\"True label\")\n",
    "    plt.xlabel(\"Predicted label\")\n",
    "    plt.show()"
   ]
  },
  {
   "attachments": {},
   "cell_type": "markdown",
   "metadata": {},
   "source": [
    "## BalanceBaggingClassifier"
   ]
  },
  {
   "cell_type": "code",
   "execution_count": 25,
   "metadata": {},
   "outputs": [
    {
     "name": "stdout",
     "output_type": "stream",
     "text": [
      "score:              precision    recall  f1-score   support\n",
      "\n",
      "           0       0.84      0.63      0.72       138\n",
      "           1       0.41      0.64      0.50        11\n",
      "           2       0.57      0.59      0.58        46\n",
      "           3       0.80      0.77      0.79        74\n",
      "           4       0.19      0.73      0.30        11\n",
      "\n",
      "    accuracy                           0.66       280\n",
      "   macro avg       0.56      0.67      0.58       280\n",
      "weighted avg       0.75      0.66      0.69       280\n",
      "\n"
     ]
    }
   ],
   "source": [
    "bbc = make_bbc_model(X_train_std, y_train_dis, X_test_std, y_test_dis)"
   ]
  },
  {
   "cell_type": "code",
   "execution_count": 26,
   "metadata": {},
   "outputs": [
    {
     "data": {
      "image/png": "[encoded data removed]",
      "text/plain": [
       "<Figure size 480x480 with 2 Axes>"
      ]
     },
     "metadata": {},
     "output_type": "display_data"
    }
   ],
   "source": [
    "plot_confusion_matrix_multi(y_test_dis, bbc.predict(X_test_std))"
   ]
  },
  {
   "attachments": {},
   "cell_type": "markdown",
   "metadata": {},
   "source": [
    "## XGBClassifier"
   ]
  },
  {
   "cell_type": "code",
   "execution_count": 27,
   "metadata": {},
   "outputs": [
    {
     "name": "stdout",
     "output_type": "stream",
     "text": [
      "[23:34:48] WARNING: C:\\buildkite-agent\\builds\\buildkite-windows-cpu-autoscaling-group-i-07593ffd91cd9da33-1\\xgboost\\xgboost-ci-windows\\src\\learner.cc:767: \n",
      "Parameters: { \"eval_metrics\", \"scale_pos_weight\" } are not used.\n",
      "\n",
      "score:              precision    recall  f1-score   support\n",
      "\n",
      "           0       0.83      0.83      0.83       138\n",
      "           1       0.83      0.45      0.59        11\n",
      "           2       0.64      0.63      0.64        46\n",
      "           3       0.78      0.89      0.83        74\n",
      "           4       0.17      0.09      0.12        11\n",
      "\n",
      "    accuracy                           0.77       280\n",
      "   macro avg       0.65      0.58      0.60       280\n",
      "weighted avg       0.76      0.77      0.76       280\n",
      "\n"
     ]
    }
   ],
   "source": [
    "xgb = make_xgb_model(X_train_std, y_train_dis, X_test_std, y_test_dis)"
   ]
  },
  {
   "cell_type": "code",
   "execution_count": 28,
   "metadata": {},
   "outputs": [
    {
     "data": {
      "image/png": "[encoded data removed]",
      "text/plain": [
       "<Figure size 480x480 with 2 Axes>"
      ]
     },
     "metadata": {},
     "output_type": "display_data"
    }
   ],
   "source": [
    "plot_confusion_matrix_multi(y_test_dis, xgb.predict(X_test_std))"
   ]
  },
  {
   "attachments": {},
   "cell_type": "markdown",
   "metadata": {},
   "source": [
    "## SVC 分类器"
   ]
  },
  {
   "cell_type": "code",
   "execution_count": 29,
   "metadata": {},
   "outputs": [],
   "source": [
    "from sklearn.svm import SVC\n",
    "from sklearn.model_selection import GridSearchCV\n",
    "from sklearn.metrics import classification_report\n",
    "\n",
    "\n",
    "def make_svc_model(X_train, y_train, X_test, y_test):\n",
    "    svc = SVC(\n",
    "        kernel=\"rbf\",\n",
    "        gamma=\"auto\",\n",
    "        C=1,\n",
    "        decision_function_shape=\"ovr\",\n",
    "        random_state=SEED,\n",
    "        class_weight=\"balanced\",\n",
    "    )\n",
    "    svc.fit(X_train, y_train)\n",
    "    print(f\"score:{classification_report(y_test,svc.predict(X_test))}\")\n",
    "    return svc"
   ]
  },
  {
   "cell_type": "code",
   "execution_count": 30,
   "metadata": {},
   "outputs": [
    {
     "name": "stdout",
     "output_type": "stream",
     "text": [
      "score:              precision    recall  f1-score   support\n",
      "\n",
      "           0       0.90      0.56      0.69       138\n",
      "           1       0.27      0.55      0.36        11\n",
      "           2       0.64      0.59      0.61        46\n",
      "           3       0.69      0.74      0.71        74\n",
      "           4       0.16      0.73      0.26        11\n",
      "\n",
      "    accuracy                           0.62       280\n",
      "   macro avg       0.53      0.63      0.53       280\n",
      "weighted avg       0.75      0.62      0.65       280\n",
      "\n"
     ]
    }
   ],
   "source": [
    "svm = make_svc_model(X_train_std, y_train_dis, X_test_std, y_test_dis)"
   ]
  },
  {
   "cell_type": "code",
   "execution_count": 31,
   "metadata": {},
   "outputs": [
    {
     "data": {
      "image/png": "[encoded data removed]",
      "text/plain": [
       "<Figure size 480x480 with 2 Axes>"
      ]
     },
     "metadata": {},
     "output_type": "display_data"
    }
   ],
   "source": [
    "plot_confusion_matrix_multi(y_test_dis, svm.predict(X_test_std))"
   ]
  },
  {
   "cell_type": "code",
   "execution_count": 32,
   "metadata": {},
   "outputs": [
    {
     "name": "stdout",
     "output_type": "stream",
     "text": [
      "Fitting 5 folds for each of 48 candidates, totalling 240 fits\n",
      "[CV] END .........................C=0.1, gamma=1, kernel=rbf; total time=   0.0s\n",
      "[CV] END .........................C=0.1, gamma=1, kernel=rbf; total time=   0.0s\n",
      "[CV] END .........................C=0.1, gamma=1, kernel=rbf; total time=   0.0s\n",
      "[CV] END .........................C=0.1, gamma=1, kernel=rbf; total time=   0.0s\n",
      "[CV] END .........................C=0.1, gamma=1, kernel=rbf; total time=   0.0s\n",
      "[CV] END ........................C=0.1, gamma=1, kernel=poly; total time=   0.0s\n",
      "[CV] END ........................C=0.1, gamma=1, kernel=poly; total time=   0.0s\n",
      "[CV] END ........................C=0.1, gamma=1, kernel=poly; total time=   0.0s\n",
      "[CV] END ........................C=0.1, gamma=1, kernel=poly; total time=   0.0s\n",
      "[CV] END ........................C=0.1, gamma=1, kernel=poly; total time=   0.0s\n",
      "[CV] END .....................C=0.1, gamma=1, kernel=sigmoid; total time=   0.0s\n",
      "[CV] END .....................C=0.1, gamma=1, kernel=sigmoid; total time=   0.0s\n",
      "[CV] END .....................C=0.1, gamma=1, kernel=sigmoid; total time=   0.0s\n",
      "[CV] END .....................C=0.1, gamma=1, kernel=sigmoid; total time=   0.0s\n",
      "[CV] END .....................C=0.1, gamma=1, kernel=sigmoid; total time=   0.0s\n",
      "[CV] END .......................C=0.1, gamma=0.1, kernel=rbf; total time=   0.0s\n",
      "[CV] END .......................C=0.1, gamma=0.1, kernel=rbf; total time=   0.0s\n",
      "[CV] END .......................C=0.1, gamma=0.1, kernel=rbf; total time=   0.0s\n",
      "[CV] END .......................C=0.1, gamma=0.1, kernel=rbf; total time=   0.0s\n",
      "[CV] END .......................C=0.1, gamma=0.1, kernel=rbf; total time=   0.0s\n",
      "[CV] END ......................C=0.1, gamma=0.1, kernel=poly; total time=   0.0s\n",
      "[CV] END ......................C=0.1, gamma=0.1, kernel=poly; total time=   0.0s\n",
      "[CV] END ......................C=0.1, gamma=0.1, kernel=poly; total time=   0.0s\n",
      "[CV] END ......................C=0.1, gamma=0.1, kernel=poly; total time=   0.0s\n",
      "[CV] END ......................C=0.1, gamma=0.1, kernel=poly; total time=   0.0s\n",
      "[CV] END ...................C=0.1, gamma=0.1, kernel=sigmoid; total time=   0.0s\n",
      "[CV] END ...................C=0.1, gamma=0.1, kernel=sigmoid; total time=   0.0s\n",
      "[CV] END ...................C=0.1, gamma=0.1, kernel=sigmoid; total time=   0.0s\n",
      "[CV] END ...................C=0.1, gamma=0.1, kernel=sigmoid; total time=   0.0s\n",
      "[CV] END ...................C=0.1, gamma=0.1, kernel=sigmoid; total time=   0.0s\n",
      "[CV] END ......................C=0.1, gamma=0.01, kernel=rbf; total time=   0.0s\n",
      "[CV] END ......................C=0.1, gamma=0.01, kernel=rbf; total time=   0.0s\n",
      "[CV] END ......................C=0.1, gamma=0.01, kernel=rbf; total time=   0.0s\n",
      "[CV] END ......................C=0.1, gamma=0.01, kernel=rbf; total time=   0.0s\n",
      "[CV] END ......................C=0.1, gamma=0.01, kernel=rbf; total time=   0.0s\n",
      "[CV] END .....................C=0.1, gamma=0.01, kernel=poly; total time=   0.0s\n",
      "[CV] END .....................C=0.1, gamma=0.01, kernel=poly; total time=   0.0s\n",
      "[CV] END .....................C=0.1, gamma=0.01, kernel=poly; total time=   0.0s\n",
      "[CV] END .....................C=0.1, gamma=0.01, kernel=poly; total time=   0.0s\n",
      "[CV] END .....................C=0.1, gamma=0.01, kernel=poly; total time=   0.0s\n",
      "[CV] END ..................C=0.1, gamma=0.01, kernel=sigmoid; total time=   0.0s\n",
      "[CV] END ..................C=0.1, gamma=0.01, kernel=sigmoid; total time=   0.0s\n",
      "[CV] END ..................C=0.1, gamma=0.01, kernel=sigmoid; total time=   0.0s\n",
      "[CV] END ..................C=0.1, gamma=0.01, kernel=sigmoid; total time=   0.0s\n",
      "[CV] END ..................C=0.1, gamma=0.01, kernel=sigmoid; total time=   0.0s\n",
      "[CV] END .....................C=0.1, gamma=0.001, kernel=rbf; total time=   0.0s\n",
      "[CV] END .....................C=0.1, gamma=0.001, kernel=rbf; total time=   0.0s\n",
      "[CV] END .....................C=0.1, gamma=0.001, kernel=rbf; total time=   0.0s\n",
      "[CV] END .....................C=0.1, gamma=0.001, kernel=rbf; total time=   0.0s\n",
      "[CV] END .....................C=0.1, gamma=0.001, kernel=rbf; total time=   0.0s\n",
      "[CV] END ....................C=0.1, gamma=0.001, kernel=poly; total time=   0.0s\n",
      "[CV] END ....................C=0.1, gamma=0.001, kernel=poly; total time=   0.0s\n",
      "[CV] END ....................C=0.1, gamma=0.001, kernel=poly; total time=   0.0s\n",
      "[CV] END ....................C=0.1, gamma=0.001, kernel=poly; total time=   0.0s\n",
      "[CV] END ....................C=0.1, gamma=0.001, kernel=poly; total time=   0.0s\n",
      "[CV] END .................C=0.1, gamma=0.001, kernel=sigmoid; total time=   0.0s\n",
      "[CV] END .................C=0.1, gamma=0.001, kernel=sigmoid; total time=   0.0s\n",
      "[CV] END .................C=0.1, gamma=0.001, kernel=sigmoid; total time=   0.0s\n",
      "[CV] END .................C=0.1, gamma=0.001, kernel=sigmoid; total time=   0.0s\n",
      "[CV] END .................C=0.1, gamma=0.001, kernel=sigmoid; total time=   0.0s\n",
      "[CV] END ...........................C=1, gamma=1, kernel=rbf; total time=   0.0s\n",
      "[CV] END ...........................C=1, gamma=1, kernel=rbf; total time=   0.0s\n",
      "[CV] END ...........................C=1, gamma=1, kernel=rbf; total time=   0.0s\n",
      "[CV] END ...........................C=1, gamma=1, kernel=rbf; total time=   0.0s\n",
      "[CV] END ...........................C=1, gamma=1, kernel=rbf; total time=   0.0s\n",
      "[CV] END ..........................C=1, gamma=1, kernel=poly; total time=   0.1s\n",
      "[CV] END ..........................C=1, gamma=1, kernel=poly; total time=   0.1s\n",
      "[CV] END ..........................C=1, gamma=1, kernel=poly; total time=   0.1s\n",
      "[CV] END ..........................C=1, gamma=1, kernel=poly; total time=   0.1s\n",
      "[CV] END ..........................C=1, gamma=1, kernel=poly; total time=   0.1s\n",
      "[CV] END .......................C=1, gamma=1, kernel=sigmoid; total time=   0.0s\n",
      "[CV] END .......................C=1, gamma=1, kernel=sigmoid; total time=   0.0s\n",
      "[CV] END .......................C=1, gamma=1, kernel=sigmoid; total time=   0.0s\n",
      "[CV] END .......................C=1, gamma=1, kernel=sigmoid; total time=   0.0s\n",
      "[CV] END .......................C=1, gamma=1, kernel=sigmoid; total time=   0.0s\n",
      "[CV] END .........................C=1, gamma=0.1, kernel=rbf; total time=   0.0s\n",
      "[CV] END .........................C=1, gamma=0.1, kernel=rbf; total time=   0.0s\n",
      "[CV] END .........................C=1, gamma=0.1, kernel=rbf; total time=   0.0s\n",
      "[CV] END .........................C=1, gamma=0.1, kernel=rbf; total time=   0.0s\n",
      "[CV] END .........................C=1, gamma=0.1, kernel=rbf; total time=   0.0s\n",
      "[CV] END ........................C=1, gamma=0.1, kernel=poly; total time=   0.0s\n",
      "[CV] END ........................C=1, gamma=0.1, kernel=poly; total time=   0.0s\n",
      "[CV] END ........................C=1, gamma=0.1, kernel=poly; total time=   0.0s\n",
      "[CV] END ........................C=1, gamma=0.1, kernel=poly; total time=   0.0s\n",
      "[CV] END ........................C=1, gamma=0.1, kernel=poly; total time=   0.0s\n",
      "[CV] END .....................C=1, gamma=0.1, kernel=sigmoid; total time=   0.0s\n",
      "[CV] END .....................C=1, gamma=0.1, kernel=sigmoid; total time=   0.0s\n",
      "[CV] END .....................C=1, gamma=0.1, kernel=sigmoid; total time=   0.0s\n",
      "[CV] END .....................C=1, gamma=0.1, kernel=sigmoid; total time=   0.0s\n",
      "[CV] END .....................C=1, gamma=0.1, kernel=sigmoid; total time=   0.0s\n",
      "[CV] END ........................C=1, gamma=0.01, kernel=rbf; total time=   0.0s\n",
      "[CV] END ........................C=1, gamma=0.01, kernel=rbf; total time=   0.0s\n",
      "[CV] END ........................C=1, gamma=0.01, kernel=rbf; total time=   0.0s\n",
      "[CV] END ........................C=1, gamma=0.01, kernel=rbf; total time=   0.0s\n",
      "[CV] END ........................C=1, gamma=0.01, kernel=rbf; total time=   0.0s\n",
      "[CV] END .......................C=1, gamma=0.01, kernel=poly; total time=   0.0s\n",
      "[CV] END .......................C=1, gamma=0.01, kernel=poly; total time=   0.0s\n",
      "[CV] END .......................C=1, gamma=0.01, kernel=poly; total time=   0.0s\n",
      "[CV] END .......................C=1, gamma=0.01, kernel=poly; total time=   0.0s\n",
      "[CV] END .......................C=1, gamma=0.01, kernel=poly; total time=   0.0s\n",
      "[CV] END ....................C=1, gamma=0.01, kernel=sigmoid; total time=   0.0s\n",
      "[CV] END ....................C=1, gamma=0.01, kernel=sigmoid; total time=   0.0s\n",
      "[CV] END ....................C=1, gamma=0.01, kernel=sigmoid; total time=   0.0s\n",
      "[CV] END ....................C=1, gamma=0.01, kernel=sigmoid; total time=   0.0s\n",
      "[CV] END ....................C=1, gamma=0.01, kernel=sigmoid; total time=   0.0s\n",
      "[CV] END .......................C=1, gamma=0.001, kernel=rbf; total time=   0.0s\n",
      "[CV] END .......................C=1, gamma=0.001, kernel=rbf; total time=   0.0s\n",
      "[CV] END .......................C=1, gamma=0.001, kernel=rbf; total time=   0.0s\n",
      "[CV] END .......................C=1, gamma=0.001, kernel=rbf; total time=   0.0s\n",
      "[CV] END .......................C=1, gamma=0.001, kernel=rbf; total time=   0.0s\n",
      "[CV] END ......................C=1, gamma=0.001, kernel=poly; total time=   0.0s\n",
      "[CV] END ......................C=1, gamma=0.001, kernel=poly; total time=   0.0s\n",
      "[CV] END ......................C=1, gamma=0.001, kernel=poly; total time=   0.0s\n",
      "[CV] END ......................C=1, gamma=0.001, kernel=poly; total time=   0.0s\n",
      "[CV] END ......................C=1, gamma=0.001, kernel=poly; total time=   0.0s\n",
      "[CV] END ...................C=1, gamma=0.001, kernel=sigmoid; total time=   0.0s\n",
      "[CV] END ...................C=1, gamma=0.001, kernel=sigmoid; total time=   0.0s\n",
      "[CV] END ...................C=1, gamma=0.001, kernel=sigmoid; total time=   0.0s\n",
      "[CV] END ...................C=1, gamma=0.001, kernel=sigmoid; total time=   0.0s\n",
      "[CV] END ...................C=1, gamma=0.001, kernel=sigmoid; total time=   0.0s\n",
      "[CV] END ..........................C=10, gamma=1, kernel=rbf; total time=   0.0s\n",
      "[CV] END ..........................C=10, gamma=1, kernel=rbf; total time=   0.0s\n",
      "[CV] END ..........................C=10, gamma=1, kernel=rbf; total time=   0.0s\n",
      "[CV] END ..........................C=10, gamma=1, kernel=rbf; total time=   0.0s\n",
      "[CV] END ..........................C=10, gamma=1, kernel=rbf; total time=   0.0s\n",
      "[CV] END .........................C=10, gamma=1, kernel=poly; total time=   1.3s\n",
      "[CV] END .........................C=10, gamma=1, kernel=poly; total time=   1.9s\n",
      "[CV] END .........................C=10, gamma=1, kernel=poly; total time=   2.5s\n",
      "[CV] END .........................C=10, gamma=1, kernel=poly; total time=   1.9s\n",
      "[CV] END .........................C=10, gamma=1, kernel=poly; total time=   1.8s\n",
      "[CV] END ......................C=10, gamma=1, kernel=sigmoid; total time=   0.0s\n",
      "[CV] END ......................C=10, gamma=1, kernel=sigmoid; total time=   0.0s\n",
      "[CV] END ......................C=10, gamma=1, kernel=sigmoid; total time=   0.0s\n",
      "[CV] END ......................C=10, gamma=1, kernel=sigmoid; total time=   0.0s\n",
      "[CV] END ......................C=10, gamma=1, kernel=sigmoid; total time=   0.0s\n",
      "[CV] END ........................C=10, gamma=0.1, kernel=rbf; total time=   0.0s\n",
      "[CV] END ........................C=10, gamma=0.1, kernel=rbf; total time=   0.0s\n",
      "[CV] END ........................C=10, gamma=0.1, kernel=rbf; total time=   0.0s\n",
      "[CV] END ........................C=10, gamma=0.1, kernel=rbf; total time=   0.0s\n",
      "[CV] END ........................C=10, gamma=0.1, kernel=rbf; total time=   0.0s\n",
      "[CV] END .......................C=10, gamma=0.1, kernel=poly; total time=   0.0s\n",
      "[CV] END .......................C=10, gamma=0.1, kernel=poly; total time=   0.0s\n",
      "[CV] END .......................C=10, gamma=0.1, kernel=poly; total time=   0.0s\n",
      "[CV] END .......................C=10, gamma=0.1, kernel=poly; total time=   0.0s\n",
      "[CV] END .......................C=10, gamma=0.1, kernel=poly; total time=   0.0s\n",
      "[CV] END ....................C=10, gamma=0.1, kernel=sigmoid; total time=   0.0s\n",
      "[CV] END ....................C=10, gamma=0.1, kernel=sigmoid; total time=   0.0s\n",
      "[CV] END ....................C=10, gamma=0.1, kernel=sigmoid; total time=   0.0s\n",
      "[CV] END ....................C=10, gamma=0.1, kernel=sigmoid; total time=   0.0s\n",
      "[CV] END ....................C=10, gamma=0.1, kernel=sigmoid; total time=   0.0s\n",
      "[CV] END .......................C=10, gamma=0.01, kernel=rbf; total time=   0.0s\n",
      "[CV] END .......................C=10, gamma=0.01, kernel=rbf; total time=   0.0s\n",
      "[CV] END .......................C=10, gamma=0.01, kernel=rbf; total time=   0.0s\n",
      "[CV] END .......................C=10, gamma=0.01, kernel=rbf; total time=   0.0s\n",
      "[CV] END .......................C=10, gamma=0.01, kernel=rbf; total time=   0.0s\n",
      "[CV] END ......................C=10, gamma=0.01, kernel=poly; total time=   0.0s\n",
      "[CV] END ......................C=10, gamma=0.01, kernel=poly; total time=   0.0s\n",
      "[CV] END ......................C=10, gamma=0.01, kernel=poly; total time=   0.0s\n",
      "[CV] END ......................C=10, gamma=0.01, kernel=poly; total time=   0.0s\n",
      "[CV] END ......................C=10, gamma=0.01, kernel=poly; total time=   0.0s\n",
      "[CV] END ...................C=10, gamma=0.01, kernel=sigmoid; total time=   0.0s\n",
      "[CV] END ...................C=10, gamma=0.01, kernel=sigmoid; total time=   0.0s\n",
      "[CV] END ...................C=10, gamma=0.01, kernel=sigmoid; total time=   0.0s\n",
      "[CV] END ...................C=10, gamma=0.01, kernel=sigmoid; total time=   0.0s\n",
      "[CV] END ...................C=10, gamma=0.01, kernel=sigmoid; total time=   0.0s\n",
      "[CV] END ......................C=10, gamma=0.001, kernel=rbf; total time=   0.0s\n",
      "[CV] END ......................C=10, gamma=0.001, kernel=rbf; total time=   0.0s\n",
      "[CV] END ......................C=10, gamma=0.001, kernel=rbf; total time=   0.0s\n",
      "[CV] END ......................C=10, gamma=0.001, kernel=rbf; total time=   0.0s\n",
      "[CV] END ......................C=10, gamma=0.001, kernel=rbf; total time=   0.0s\n",
      "[CV] END .....................C=10, gamma=0.001, kernel=poly; total time=   0.0s\n",
      "[CV] END .....................C=10, gamma=0.001, kernel=poly; total time=   0.0s\n",
      "[CV] END .....................C=10, gamma=0.001, kernel=poly; total time=   0.0s\n",
      "[CV] END .....................C=10, gamma=0.001, kernel=poly; total time=   0.0s\n",
      "[CV] END .....................C=10, gamma=0.001, kernel=poly; total time=   0.0s\n",
      "[CV] END ..................C=10, gamma=0.001, kernel=sigmoid; total time=   0.0s\n",
      "[CV] END ..................C=10, gamma=0.001, kernel=sigmoid; total time=   0.0s\n",
      "[CV] END ..................C=10, gamma=0.001, kernel=sigmoid; total time=   0.0s\n",
      "[CV] END ..................C=10, gamma=0.001, kernel=sigmoid; total time=   0.0s\n",
      "[CV] END ..................C=10, gamma=0.001, kernel=sigmoid; total time=   0.0s\n",
      "[CV] END .........................C=100, gamma=1, kernel=rbf; total time=   0.0s\n",
      "[CV] END .........................C=100, gamma=1, kernel=rbf; total time=   0.0s\n",
      "[CV] END .........................C=100, gamma=1, kernel=rbf; total time=   0.0s\n",
      "[CV] END .........................C=100, gamma=1, kernel=rbf; total time=   0.0s\n",
      "[CV] END .........................C=100, gamma=1, kernel=rbf; total time=   0.0s\n",
      "[CV] END ........................C=100, gamma=1, kernel=poly; total time=  14.8s\n",
      "[CV] END ........................C=100, gamma=1, kernel=poly; total time=  20.9s\n",
      "[CV] END ........................C=100, gamma=1, kernel=poly; total time=  22.5s\n",
      "[CV] END ........................C=100, gamma=1, kernel=poly; total time=  19.4s\n",
      "[CV] END ........................C=100, gamma=1, kernel=poly; total time=  18.2s\n",
      "[CV] END .....................C=100, gamma=1, kernel=sigmoid; total time=   0.0s\n",
      "[CV] END .....................C=100, gamma=1, kernel=sigmoid; total time=   0.0s\n",
      "[CV] END .....................C=100, gamma=1, kernel=sigmoid; total time=   0.0s\n",
      "[CV] END .....................C=100, gamma=1, kernel=sigmoid; total time=   0.0s\n",
      "[CV] END .....................C=100, gamma=1, kernel=sigmoid; total time=   0.0s\n",
      "[CV] END .......................C=100, gamma=0.1, kernel=rbf; total time=   0.0s\n",
      "[CV] END .......................C=100, gamma=0.1, kernel=rbf; total time=   0.0s\n",
      "[CV] END .......................C=100, gamma=0.1, kernel=rbf; total time=   0.0s\n",
      "[CV] END .......................C=100, gamma=0.1, kernel=rbf; total time=   0.0s\n",
      "[CV] END .......................C=100, gamma=0.1, kernel=rbf; total time=   0.0s\n",
      "[CV] END ......................C=100, gamma=0.1, kernel=poly; total time=   0.0s\n",
      "[CV] END ......................C=100, gamma=0.1, kernel=poly; total time=   0.0s\n",
      "[CV] END ......................C=100, gamma=0.1, kernel=poly; total time=   0.0s\n",
      "[CV] END ......................C=100, gamma=0.1, kernel=poly; total time=   0.0s\n",
      "[CV] END ......................C=100, gamma=0.1, kernel=poly; total time=   0.0s\n",
      "[CV] END ...................C=100, gamma=0.1, kernel=sigmoid; total time=   0.0s\n",
      "[CV] END ...................C=100, gamma=0.1, kernel=sigmoid; total time=   0.0s\n",
      "[CV] END ...................C=100, gamma=0.1, kernel=sigmoid; total time=   0.0s\n",
      "[CV] END ...................C=100, gamma=0.1, kernel=sigmoid; total time=   0.0s\n",
      "[CV] END ...................C=100, gamma=0.1, kernel=sigmoid; total time=   0.0s\n",
      "[CV] END ......................C=100, gamma=0.01, kernel=rbf; total time=   0.0s\n",
      "[CV] END ......................C=100, gamma=0.01, kernel=rbf; total time=   0.0s\n",
      "[CV] END ......................C=100, gamma=0.01, kernel=rbf; total time=   0.0s\n",
      "[CV] END ......................C=100, gamma=0.01, kernel=rbf; total time=   0.0s\n",
      "[CV] END ......................C=100, gamma=0.01, kernel=rbf; total time=   0.0s\n",
      "[CV] END .....................C=100, gamma=0.01, kernel=poly; total time=   0.0s\n",
      "[CV] END .....................C=100, gamma=0.01, kernel=poly; total time=   0.0s\n",
      "[CV] END .....................C=100, gamma=0.01, kernel=poly; total time=   0.0s\n",
      "[CV] END .....................C=100, gamma=0.01, kernel=poly; total time=   0.0s\n",
      "[CV] END .....................C=100, gamma=0.01, kernel=poly; total time=   0.0s\n",
      "[CV] END ..................C=100, gamma=0.01, kernel=sigmoid; total time=   0.0s\n",
      "[CV] END ..................C=100, gamma=0.01, kernel=sigmoid; total time=   0.0s\n",
      "[CV] END ..................C=100, gamma=0.01, kernel=sigmoid; total time=   0.0s\n",
      "[CV] END ..................C=100, gamma=0.01, kernel=sigmoid; total time=   0.0s\n",
      "[CV] END ..................C=100, gamma=0.01, kernel=sigmoid; total time=   0.0s\n",
      "[CV] END .....................C=100, gamma=0.001, kernel=rbf; total time=   0.0s\n",
      "[CV] END .....................C=100, gamma=0.001, kernel=rbf; total time=   0.0s\n",
      "[CV] END .....................C=100, gamma=0.001, kernel=rbf; total time=   0.0s\n",
      "[CV] END .....................C=100, gamma=0.001, kernel=rbf; total time=   0.0s\n",
      "[CV] END .....................C=100, gamma=0.001, kernel=rbf; total time=   0.0s\n",
      "[CV] END ....................C=100, gamma=0.001, kernel=poly; total time=   0.0s\n",
      "[CV] END ....................C=100, gamma=0.001, kernel=poly; total time=   0.0s\n",
      "[CV] END ....................C=100, gamma=0.001, kernel=poly; total time=   0.0s\n",
      "[CV] END ....................C=100, gamma=0.001, kernel=poly; total time=   0.0s\n",
      "[CV] END ....................C=100, gamma=0.001, kernel=poly; total time=   0.0s\n",
      "[CV] END .................C=100, gamma=0.001, kernel=sigmoid; total time=   0.0s\n",
      "[CV] END .................C=100, gamma=0.001, kernel=sigmoid; total time=   0.0s\n",
      "[CV] END .................C=100, gamma=0.001, kernel=sigmoid; total time=   0.0s\n",
      "[CV] END .................C=100, gamma=0.001, kernel=sigmoid; total time=   0.0s\n",
      "[CV] END .................C=100, gamma=0.001, kernel=sigmoid; total time=   0.0s\n",
      "SVC(C=10, class_weight='balanced', gamma=1, random_state=666)\n",
      "{'C': 10, 'gamma': 1, 'kernel': 'rbf'}\n",
      "0.7316503843689943\n"
     ]
    }
   ],
   "source": [
    "# GridSearch\n",
    "param_grid = {\n",
    "    \"C\": [0.1, 1, 10, 100],\n",
    "    \"gamma\": [1, 0.1, 0.01, 0.001],\n",
    "    \"kernel\": [\"rbf\", \"poly\", \"sigmoid\"],\n",
    "}\n",
    "\n",
    "grid = GridSearchCV(\n",
    "    SVC(\n",
    "        random_state=SEED,\n",
    "        class_weight=\"balanced\",\n",
    "    ),\n",
    "    param_grid,\n",
    "    refit=True,\n",
    "    verbose=2,\n",
    ")\n",
    "grid.fit(X_train_std, y_train_dis)\n",
    "print(grid.best_estimator_)\n",
    "print(grid.best_params_)\n",
    "print(grid.best_score_)"
   ]
  },
  {
   "cell_type": "code",
   "execution_count": 33,
   "metadata": {},
   "outputs": [
    {
     "name": "stdout",
     "output_type": "stream",
     "text": [
      "precision_score: 0.6464821733937567\n",
      "recall_score: 0.6433927999145391\n",
      "score:               precision    recall  f1-score   support\n",
      "\n",
      "           0       0.87      0.80      0.84       138\n",
      "           1       0.67      0.55      0.60        11\n",
      "           2       0.62      0.65      0.64        46\n",
      "           3       0.76      0.85      0.80        74\n",
      "           4       0.31      0.36      0.33        11\n",
      "\n",
      "    accuracy                           0.76       280\n",
      "   macro avg       0.65      0.64      0.64       280\n",
      "weighted avg       0.77      0.76      0.77       280\n",
      "\n"
     ]
    },
    {
     "data": {
      "image/png": "[encoded data removed]",
      "text/plain": [
       "<Figure size 480x480 with 2 Axes>"
      ]
     },
     "metadata": {},
     "output_type": "display_data"
    }
   ],
   "source": [
    "# 验证精度和召回率\n",
    "from sklearn.metrics import precision_score, recall_score\n",
    "\n",
    "y_pred = grid.predict(X_test_std)\n",
    "print(f\"precision_score: {precision_score(y_test_dis, y_pred, average='macro')}\")\n",
    "print(f\"recall_score: {recall_score(y_test_dis, y_pred, average='macro')}\")\n",
    "print(f\"score: {classification_report(y_test_dis, y_pred)}\")\n",
    "\n",
    "# 绘制混淆矩阵\n",
    "plot_confusion_matrix_multi(y_test_dis, y_pred)"
   ]
  }
 ],
 "metadata": {
  "kernelspec": {
   "display_name": "Python 3",
   "language": "python",
   "name": "python3"
  },
  "language_info": {
   "codemirror_mode": {
    "name": "ipython",
    "version": 3
   },
   "file_extension": ".py",
   "mimetype": "text/x-python",
   "name": "python",
   "nbconvert_exporter": "python",
   "pygments_lexer": "ipython3",
   "version": "3.10.10"
  },
  "orig_nbformat": 4
 },
 "nbformat": 4,
 "nbformat_minor": 2
}
