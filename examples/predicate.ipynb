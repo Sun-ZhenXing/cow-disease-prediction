{
 "cells": [
  {
   "cell_type": "code",
   "execution_count": 1,
   "id": "483b8cf3",
   "metadata": {},
   "outputs": [],
   "source": [
    "import pandas as pd\n",
    "import numpy as np\n",
    "import seaborn as sns\n",
    "import matplotlib.pyplot as plt\n",
    "from sklearn.preprocessing import StandardScaler\n",
    "from sklearn.metrics import confusion_matrix\n",
    "from sklearn import metrics"
   ]
  },
  {
   "cell_type": "code",
   "execution_count": 2,
   "id": "ce70937b",
   "metadata": {},
   "outputs": [],
   "source": [
    "def plot_AUC(model, X_test, y_test):\n",
    "    probs = model.predict_proba(X_test)\n",
    "    preds = probs[:, 1]\n",
    "    fpr, tpr, threshold = metrics.roc_curve(y_test, preds)\n",
    "    roc_auc = metrics.auc(fpr, tpr)\n",
    "\n",
    "    plt.title(\"Receiver Operating Characteristic\")\n",
    "    plt.plot(fpr, tpr, \"b\", label=\"AUC = %0.2f\" % roc_auc)\n",
    "    plt.legend(loc=\"lower right\")\n",
    "    plt.plot([0, 1], [0, 1], \"r--\")\n",
    "    plt.xlim([0, 1])\n",
    "    plt.ylim([0, 1])\n",
    "    plt.ylabel(\"True Positive Rate\")\n",
    "    plt.xlabel(\"False Positive Rate\")\n",
    "    plt.show()"
   ]
  },
  {
   "cell_type": "code",
   "execution_count": 3,
   "id": "6321d514",
   "metadata": {},
   "outputs": [],
   "source": [
    "cols = [\"日产量\", \"日活动量\", \"日反刍量\", \"泌乳天数\", \"泌乳期\", \"新增疾病类型\"]\n",
    "data = pd.read_csv(\"../data/sample.csv\", usecols=cols)"
   ]
  },
  {
   "attachments": {},
   "cell_type": "markdown",
   "id": "0b40fe6a",
   "metadata": {},
   "source": [
    "#### 查看疾病分类"
   ]
  },
  {
   "cell_type": "code",
   "execution_count": 4,
   "id": "58eacc5a",
   "metadata": {},
   "outputs": [
    {
     "data": {
      "text/plain": [
       "乳房疾病      915\n",
       "生殖系统      542\n",
       "自定义疾病     386\n",
       "消化系统       97\n",
       "营养代谢系统     81\n",
       "传染病        20\n",
       "应激与过敏      16\n",
       "神经系统        8\n",
       "四肢疾病        6\n",
       "泌尿系统        3\n",
       "Name: 新增疾病类型, dtype: int64"
      ]
     },
     "execution_count": 4,
     "metadata": {},
     "output_type": "execute_result"
    }
   ],
   "source": [
    "data[\"新增疾病类型\"].value_counts()"
   ]
  },
  {
   "cell_type": "code",
   "execution_count": 5,
   "id": "ec8f1ab8",
   "metadata": {},
   "outputs": [],
   "source": [
    "del_dis = [\"传染病\", \"应激与过敏\", \"神经系统\", \"四肢疾病\", \"泌尿系统\"]\n",
    "for dis in del_dis:\n",
    "    data.drop(data[data[\"新增疾病类型\"] == dis.strip()].index, axis=0, inplace=True)"
   ]
  },
  {
   "cell_type": "code",
   "execution_count": 6,
   "id": "cf9e859c",
   "metadata": {},
   "outputs": [
    {
     "data": {
      "text/plain": [
       "乳房疾病      915\n",
       "生殖系统      542\n",
       "自定义疾病     386\n",
       "消化系统       97\n",
       "营养代谢系统     81\n",
       "Name: 新增疾病类型, dtype: int64"
      ]
     },
     "execution_count": 6,
     "metadata": {},
     "output_type": "execute_result"
    }
   ],
   "source": [
    "data[\"新增疾病类型\"].value_counts()"
   ]
  },
  {
   "cell_type": "code",
   "execution_count": 7,
   "id": "abb7a7bf",
   "metadata": {},
   "outputs": [],
   "source": [
    "# 把空值转化为 0\n",
    "data[\"新增疾病类型\"].fillna(0, inplace=True)"
   ]
  },
  {
   "cell_type": "code",
   "execution_count": 8,
   "id": "2097c806",
   "metadata": {},
   "outputs": [],
   "source": [
    "# 把非空值转化为 1\n",
    "data[\"新增疾病类型\"] = data[\"新增疾病类型\"].map(lambda x: 1 if x else 0)"
   ]
  },
  {
   "cell_type": "code",
   "execution_count": 9,
   "id": "c55fa544",
   "metadata": {},
   "outputs": [
    {
     "data": {
      "text/plain": [
       "0    190144\n",
       "1      2021\n",
       "Name: 新增疾病类型, dtype: int64"
      ]
     },
     "execution_count": 9,
     "metadata": {},
     "output_type": "execute_result"
    }
   ],
   "source": [
    "# 查看空准确率\n",
    "data[\"新增疾病类型\"].value_counts()"
   ]
  },
  {
   "cell_type": "code",
   "execution_count": 10,
   "id": "457d99d3",
   "metadata": {},
   "outputs": [
    {
     "data": {
      "text/plain": [
       "0    0.989483\n",
       "1    0.010517\n",
       "Name: 新增疾病类型, dtype: float64"
      ]
     },
     "execution_count": 10,
     "metadata": {},
     "output_type": "execute_result"
    }
   ],
   "source": [
    "data[\"新增疾病类型\"].value_counts(normalize=True)"
   ]
  },
  {
   "cell_type": "code",
   "execution_count": 11,
   "id": "6d1f3153",
   "metadata": {},
   "outputs": [],
   "source": [
    "data_0 = data[data[\"新增疾病类型\"] == 0]"
   ]
  },
  {
   "cell_type": "code",
   "execution_count": 12,
   "id": "fd4fedf1",
   "metadata": {},
   "outputs": [],
   "source": [
    "data_1 = data[data[\"新增疾病类型\"] == 1]"
   ]
  },
  {
   "cell_type": "code",
   "execution_count": 13,
   "id": "a7eafc5f",
   "metadata": {},
   "outputs": [],
   "source": [
    "index_0 = np.random.choice(data_0.shape[0], 3000)"
   ]
  },
  {
   "cell_type": "code",
   "execution_count": 14,
   "id": "4f2acdc8",
   "metadata": {},
   "outputs": [
    {
     "data": {
      "text/html": [
       "<div>\n",
       "<style scoped>\n",
       "    .dataframe tbody tr th:only-of-type {\n",
       "        vertical-align: middle;\n",
       "    }\n",
       "\n",
       "    .dataframe tbody tr th {\n",
       "        vertical-align: top;\n",
       "    }\n",
       "\n",
       "    .dataframe thead th {\n",
       "        text-align: right;\n",
       "    }\n",
       "</style>\n",
       "<table border=\"1\" class=\"dataframe\">\n",
       "  <thead>\n",
       "    <tr style=\"text-align: right;\">\n",
       "      <th></th>\n",
       "      <th>日产量</th>\n",
       "      <th>日活动量</th>\n",
       "      <th>日反刍量</th>\n",
       "      <th>泌乳天数</th>\n",
       "      <th>泌乳期</th>\n",
       "      <th>新增疾病类型</th>\n",
       "    </tr>\n",
       "  </thead>\n",
       "  <tbody>\n",
       "    <tr>\n",
       "      <th>178290</th>\n",
       "      <td>34.816002</td>\n",
       "      <td>474.0</td>\n",
       "      <td>543.0</td>\n",
       "      <td>72</td>\n",
       "      <td>1</td>\n",
       "      <td>0</td>\n",
       "    </tr>\n",
       "    <tr>\n",
       "      <th>145859</th>\n",
       "      <td>19.399000</td>\n",
       "      <td>461.0</td>\n",
       "      <td>497.0</td>\n",
       "      <td>310</td>\n",
       "      <td>1</td>\n",
       "      <td>0</td>\n",
       "    </tr>\n",
       "    <tr>\n",
       "      <th>103757</th>\n",
       "      <td>50.292000</td>\n",
       "      <td>473.0</td>\n",
       "      <td>591.0</td>\n",
       "      <td>42</td>\n",
       "      <td>2</td>\n",
       "      <td>0</td>\n",
       "    </tr>\n",
       "    <tr>\n",
       "      <th>62766</th>\n",
       "      <td>63.022999</td>\n",
       "      <td>566.0</td>\n",
       "      <td>572.0</td>\n",
       "      <td>74</td>\n",
       "      <td>3</td>\n",
       "      <td>0</td>\n",
       "    </tr>\n",
       "    <tr>\n",
       "      <th>58191</th>\n",
       "      <td>18.705000</td>\n",
       "      <td>491.0</td>\n",
       "      <td>546.0</td>\n",
       "      <td>285</td>\n",
       "      <td>3</td>\n",
       "      <td>0</td>\n",
       "    </tr>\n",
       "    <tr>\n",
       "      <th>...</th>\n",
       "      <td>...</td>\n",
       "      <td>...</td>\n",
       "      <td>...</td>\n",
       "      <td>...</td>\n",
       "      <td>...</td>\n",
       "      <td>...</td>\n",
       "    </tr>\n",
       "    <tr>\n",
       "      <th>187309</th>\n",
       "      <td>30.879999</td>\n",
       "      <td>413.0</td>\n",
       "      <td>535.0</td>\n",
       "      <td>80</td>\n",
       "      <td>1</td>\n",
       "      <td>0</td>\n",
       "    </tr>\n",
       "    <tr>\n",
       "      <th>188593</th>\n",
       "      <td>32.169998</td>\n",
       "      <td>522.0</td>\n",
       "      <td>628.0</td>\n",
       "      <td>24</td>\n",
       "      <td>1</td>\n",
       "      <td>0</td>\n",
       "    </tr>\n",
       "    <tr>\n",
       "      <th>181162</th>\n",
       "      <td>34.194000</td>\n",
       "      <td>460.0</td>\n",
       "      <td>422.0</td>\n",
       "      <td>95</td>\n",
       "      <td>1</td>\n",
       "      <td>0</td>\n",
       "    </tr>\n",
       "    <tr>\n",
       "      <th>23765</th>\n",
       "      <td>33.173000</td>\n",
       "      <td>500.0</td>\n",
       "      <td>575.0</td>\n",
       "      <td>192</td>\n",
       "      <td>5</td>\n",
       "      <td>0</td>\n",
       "    </tr>\n",
       "    <tr>\n",
       "      <th>51278</th>\n",
       "      <td>0.000000</td>\n",
       "      <td>626.0</td>\n",
       "      <td>592.0</td>\n",
       "      <td>303</td>\n",
       "      <td>3</td>\n",
       "      <td>0</td>\n",
       "    </tr>\n",
       "  </tbody>\n",
       "</table>\n",
       "<p>3000 rows × 6 columns</p>\n",
       "</div>"
      ],
      "text/plain": [
       "              日产量   日活动量   日反刍量  泌乳天数  泌乳期  新增疾病类型\n",
       "178290  34.816002  474.0  543.0    72    1       0\n",
       "145859  19.399000  461.0  497.0   310    1       0\n",
       "103757  50.292000  473.0  591.0    42    2       0\n",
       "62766   63.022999  566.0  572.0    74    3       0\n",
       "58191   18.705000  491.0  546.0   285    3       0\n",
       "...           ...    ...    ...   ...  ...     ...\n",
       "187309  30.879999  413.0  535.0    80    1       0\n",
       "188593  32.169998  522.0  628.0    24    1       0\n",
       "181162  34.194000  460.0  422.0    95    1       0\n",
       "23765   33.173000  500.0  575.0   192    5       0\n",
       "51278    0.000000  626.0  592.0   303    3       0\n",
       "\n",
       "[3000 rows x 6 columns]"
      ]
     },
     "execution_count": 14,
     "metadata": {},
     "output_type": "execute_result"
    }
   ],
   "source": [
    "data_0.iloc[index_0]"
   ]
  },
  {
   "attachments": {},
   "cell_type": "markdown",
   "id": "1251386f",
   "metadata": {},
   "source": [
    "### 训练模型"
   ]
  },
  {
   "cell_type": "code",
   "execution_count": 15,
   "id": "26bcb4d4",
   "metadata": {},
   "outputs": [],
   "source": [
    "from sklearn.model_selection import train_test_split"
   ]
  },
  {
   "cell_type": "code",
   "execution_count": 16,
   "id": "5a87ef27",
   "metadata": {},
   "outputs": [],
   "source": [
    "data.dropna(inplace=True)\n",
    "# y=data['新增疾病类型']\n",
    "y = data[[\"新增疾病类型\"]]\n",
    "X = data.drop(\"新增疾病类型\", axis=1)"
   ]
  },
  {
   "cell_type": "code",
   "execution_count": 17,
   "id": "eb8f9476",
   "metadata": {},
   "outputs": [],
   "source": [
    "X_train, X_test, y_train, y_test = train_test_split(\n",
    "    X, y, test_size=0.2, random_state=42\n",
    ")"
   ]
  },
  {
   "cell_type": "code",
   "execution_count": 18,
   "id": "a505d8a6",
   "metadata": {},
   "outputs": [],
   "source": [
    "from imblearn.ensemble import BalancedRandomForestClassifier\n",
    "from sklearn.metrics import classification_report"
   ]
  },
  {
   "cell_type": "code",
   "execution_count": 19,
   "id": "8e1f67f3",
   "metadata": {},
   "outputs": [],
   "source": [
    "def make_brf_modle(X_train, y_train, X_test, y_test):\n",
    "    BRF = BalancedRandomForestClassifier(\n",
    "        n_estimators=5,\n",
    "        criterion=\"gini\",\n",
    "        max_depth=None,\n",
    "        min_samples_split=2,\n",
    "        min_samples_leaf=2,\n",
    "        min_weight_fraction_leaf=0,\n",
    "        max_features=\"auto\",\n",
    "        min_impurity_decrease=0,\n",
    "        bootstrap=True,\n",
    "        oob_score=False,\n",
    "        sampling_strategy=\"auto\",\n",
    "        replacement=False,\n",
    "        n_jobs=1,\n",
    "        random_state=42,\n",
    "        verbose=2,\n",
    "        warm_start=False,\n",
    "        class_weight=None,\n",
    "    )\n",
    "    BRF.fit(X_train, y_train)\n",
    "    print(f\"score:{classification_report(y_test,BRF.predict(X_test))}\")\n",
    "\n",
    "    return BRF"
   ]
  },
  {
   "cell_type": "code",
   "execution_count": 20,
   "id": "a09aee19",
   "metadata": {},
   "outputs": [
    {
     "name": "stdout",
     "output_type": "stream",
     "text": [
      "building tree 1 of 5\n",
      "building tree 2 of 5\n",
      "building tree 3 of 5\n",
      "building tree 4 of 5\n",
      "building tree 5 of 5\n",
      "score:              precision    recall  f1-score   support\n",
      "\n",
      "           0       1.00      0.82      0.90     37998\n",
      "           1       0.05      0.83      0.09       418\n",
      "\n",
      "    accuracy                           0.82     38416\n",
      "   macro avg       0.52      0.83      0.50     38416\n",
      "weighted avg       0.99      0.82      0.89     38416\n",
      "\n"
     ]
    },
    {
     "name": "stderr",
     "output_type": "stream",
     "text": [
      "C:\\Users\\10069\\AppData\\Local\\Temp\\ipykernel_25768\\884691051.py:21: DataConversionWarning: A column-vector y was passed when a 1d array was expected. Please change the shape of y to (n_samples,), for example using ravel().\n",
      "  BRF.fit(X_train, y_train)\n",
      "[Parallel(n_jobs=1)]: Using backend SequentialBackend with 1 concurrent workers.\n",
      "d:\\Program\\Python3.10\\lib\\site-packages\\sklearn\\utils\\deprecation.py:86: FutureWarning: Function delayed is deprecated; The function `delayed` has been moved from `sklearn.utils.fixes` to `sklearn.utils.parallel`. This import path will be removed in 1.5.\n",
      "  warnings.warn(msg, category=FutureWarning)\n",
      "d:\\Program\\Python3.10\\lib\\site-packages\\sklearn\\utils\\parallel.py:114: UserWarning: `sklearn.utils.parallel.delayed` should be used with `sklearn.utils.parallel.Parallel` to make it possible to propagate the scikit-learn configuration of the current thread to the joblib workers.\n",
      "  warnings.warn(\n",
      "d:\\Program\\Python3.10\\lib\\site-packages\\sklearn\\tree\\_classes.py:269: FutureWarning: `max_features='auto'` has been deprecated in 1.1 and will be removed in 1.3. To keep the past behaviour, explicitly set `max_features='sqrt'`.\n",
      "  warnings.warn(\n",
      "[Parallel(n_jobs=1)]: Done   1 out of   1 | elapsed:    0.0s remaining:    0.0s\n",
      "d:\\Program\\Python3.10\\lib\\site-packages\\sklearn\\utils\\deprecation.py:86: FutureWarning: Function delayed is deprecated; The function `delayed` has been moved from `sklearn.utils.fixes` to `sklearn.utils.parallel`. This import path will be removed in 1.5.\n",
      "  warnings.warn(msg, category=FutureWarning)\n",
      "d:\\Program\\Python3.10\\lib\\site-packages\\sklearn\\utils\\parallel.py:114: UserWarning: `sklearn.utils.parallel.delayed` should be used with `sklearn.utils.parallel.Parallel` to make it possible to propagate the scikit-learn configuration of the current thread to the joblib workers.\n",
      "  warnings.warn(\n",
      "d:\\Program\\Python3.10\\lib\\site-packages\\sklearn\\tree\\_classes.py:269: FutureWarning: `max_features='auto'` has been deprecated in 1.1 and will be removed in 1.3. To keep the past behaviour, explicitly set `max_features='sqrt'`.\n",
      "  warnings.warn(\n",
      "d:\\Program\\Python3.10\\lib\\site-packages\\sklearn\\utils\\deprecation.py:86: FutureWarning: Function delayed is deprecated; The function `delayed` has been moved from `sklearn.utils.fixes` to `sklearn.utils.parallel`. This import path will be removed in 1.5.\n",
      "  warnings.warn(msg, category=FutureWarning)\n",
      "d:\\Program\\Python3.10\\lib\\site-packages\\sklearn\\utils\\parallel.py:114: UserWarning: `sklearn.utils.parallel.delayed` should be used with `sklearn.utils.parallel.Parallel` to make it possible to propagate the scikit-learn configuration of the current thread to the joblib workers.\n",
      "  warnings.warn(\n",
      "d:\\Program\\Python3.10\\lib\\site-packages\\sklearn\\tree\\_classes.py:269: FutureWarning: `max_features='auto'` has been deprecated in 1.1 and will be removed in 1.3. To keep the past behaviour, explicitly set `max_features='sqrt'`.\n",
      "  warnings.warn(\n",
      "d:\\Program\\Python3.10\\lib\\site-packages\\sklearn\\utils\\deprecation.py:86: FutureWarning: Function delayed is deprecated; The function `delayed` has been moved from `sklearn.utils.fixes` to `sklearn.utils.parallel`. This import path will be removed in 1.5.\n",
      "  warnings.warn(msg, category=FutureWarning)\n",
      "d:\\Program\\Python3.10\\lib\\site-packages\\sklearn\\utils\\parallel.py:114: UserWarning: `sklearn.utils.parallel.delayed` should be used with `sklearn.utils.parallel.Parallel` to make it possible to propagate the scikit-learn configuration of the current thread to the joblib workers.\n",
      "  warnings.warn(\n",
      "d:\\Program\\Python3.10\\lib\\site-packages\\sklearn\\tree\\_classes.py:269: FutureWarning: `max_features='auto'` has been deprecated in 1.1 and will be removed in 1.3. To keep the past behaviour, explicitly set `max_features='sqrt'`.\n",
      "  warnings.warn(\n",
      "d:\\Program\\Python3.10\\lib\\site-packages\\sklearn\\utils\\deprecation.py:86: FutureWarning: Function delayed is deprecated; The function `delayed` has been moved from `sklearn.utils.fixes` to `sklearn.utils.parallel`. This import path will be removed in 1.5.\n",
      "  warnings.warn(msg, category=FutureWarning)\n",
      "d:\\Program\\Python3.10\\lib\\site-packages\\sklearn\\utils\\parallel.py:114: UserWarning: `sklearn.utils.parallel.delayed` should be used with `sklearn.utils.parallel.Parallel` to make it possible to propagate the scikit-learn configuration of the current thread to the joblib workers.\n",
      "  warnings.warn(\n",
      "d:\\Program\\Python3.10\\lib\\site-packages\\sklearn\\tree\\_classes.py:269: FutureWarning: `max_features='auto'` has been deprecated in 1.1 and will be removed in 1.3. To keep the past behaviour, explicitly set `max_features='sqrt'`.\n",
      "  warnings.warn(\n",
      "[Parallel(n_jobs=1)]: Done   5 out of   5 | elapsed:    0.0s finished\n",
      "[Parallel(n_jobs=1)]: Using backend SequentialBackend with 1 concurrent workers.\n",
      "[Parallel(n_jobs=1)]: Done   1 out of   1 | elapsed:    0.0s remaining:    0.0s\n",
      "[Parallel(n_jobs=1)]: Done   5 out of   5 | elapsed:    0.0s finished\n"
     ]
    },
    {
     "data": {
      "text/html": [
       "<style>#sk-container-id-1 {color: black;background-color: white;}#sk-container-id-1 pre{padding: 0;}#sk-container-id-1 div.sk-toggleable {background-color: white;}#sk-container-id-1 label.sk-toggleable__label {cursor: pointer;display: block;width: 100%;margin-bottom: 0;padding: 0.3em;box-sizing: border-box;text-align: center;}#sk-container-id-1 label.sk-toggleable__label-arrow:before {content: \"▸\";float: left;margin-right: 0.25em;color: #696969;}#sk-container-id-1 label.sk-toggleable__label-arrow:hover:before {color: black;}#sk-container-id-1 div.sk-estimator:hover label.sk-toggleable__label-arrow:before {color: black;}#sk-container-id-1 div.sk-toggleable__content {max-height: 0;max-width: 0;overflow: hidden;text-align: left;background-color: #f0f8ff;}#sk-container-id-1 div.sk-toggleable__content pre {margin: 0.2em;color: black;border-radius: 0.25em;background-color: #f0f8ff;}#sk-container-id-1 input.sk-toggleable__control:checked~div.sk-toggleable__content {max-height: 200px;max-width: 100%;overflow: auto;}#sk-container-id-1 input.sk-toggleable__control:checked~label.sk-toggleable__label-arrow:before {content: \"▾\";}#sk-container-id-1 div.sk-estimator input.sk-toggleable__control:checked~label.sk-toggleable__label {background-color: #d4ebff;}#sk-container-id-1 div.sk-label input.sk-toggleable__control:checked~label.sk-toggleable__label {background-color: #d4ebff;}#sk-container-id-1 input.sk-hidden--visually {border: 0;clip: rect(1px 1px 1px 1px);clip: rect(1px, 1px, 1px, 1px);height: 1px;margin: -1px;overflow: hidden;padding: 0;position: absolute;width: 1px;}#sk-container-id-1 div.sk-estimator {font-family: monospace;background-color: #f0f8ff;border: 1px dotted black;border-radius: 0.25em;box-sizing: border-box;margin-bottom: 0.5em;}#sk-container-id-1 div.sk-estimator:hover {background-color: #d4ebff;}#sk-container-id-1 div.sk-parallel-item::after {content: \"\";width: 100%;border-bottom: 1px solid gray;flex-grow: 1;}#sk-container-id-1 div.sk-label:hover label.sk-toggleable__label {background-color: #d4ebff;}#sk-container-id-1 div.sk-serial::before {content: \"\";position: absolute;border-left: 1px solid gray;box-sizing: border-box;top: 0;bottom: 0;left: 50%;z-index: 0;}#sk-container-id-1 div.sk-serial {display: flex;flex-direction: column;align-items: center;background-color: white;padding-right: 0.2em;padding-left: 0.2em;position: relative;}#sk-container-id-1 div.sk-item {position: relative;z-index: 1;}#sk-container-id-1 div.sk-parallel {display: flex;align-items: stretch;justify-content: center;background-color: white;position: relative;}#sk-container-id-1 div.sk-item::before, #sk-container-id-1 div.sk-parallel-item::before {content: \"\";position: absolute;border-left: 1px solid gray;box-sizing: border-box;top: 0;bottom: 0;left: 50%;z-index: -1;}#sk-container-id-1 div.sk-parallel-item {display: flex;flex-direction: column;z-index: 1;position: relative;background-color: white;}#sk-container-id-1 div.sk-parallel-item:first-child::after {align-self: flex-end;width: 50%;}#sk-container-id-1 div.sk-parallel-item:last-child::after {align-self: flex-start;width: 50%;}#sk-container-id-1 div.sk-parallel-item:only-child::after {width: 0;}#sk-container-id-1 div.sk-dashed-wrapped {border: 1px dashed gray;margin: 0 0.4em 0.5em 0.4em;box-sizing: border-box;padding-bottom: 0.4em;background-color: white;}#sk-container-id-1 div.sk-label label {font-family: monospace;font-weight: bold;display: inline-block;line-height: 1.2em;}#sk-container-id-1 div.sk-label-container {text-align: center;}#sk-container-id-1 div.sk-container {/* jupyter's `normalize.less` sets `[hidden] { display: none; }` but bootstrap.min.css set `[hidden] { display: none !important; }` so we also need the `!important` here to be able to override the default hidden behavior on the sphinx rendered scikit-learn.org. See: https://github.com/scikit-learn/scikit-learn/issues/21755 */display: inline-block !important;position: relative;}#sk-container-id-1 div.sk-text-repr-fallback {display: none;}</style><div id=\"sk-container-id-1\" class=\"sk-top-container\"><div class=\"sk-text-repr-fallback\"><pre>BalancedRandomForestClassifier(max_features=&#x27;auto&#x27;, min_impurity_decrease=0,\n",
       "                               min_samples_leaf=2, min_weight_fraction_leaf=0,\n",
       "                               n_estimators=5, n_jobs=1, random_state=42,\n",
       "                               verbose=2)</pre><b>In a Jupyter environment, please rerun this cell to show the HTML representation or trust the notebook. <br />On GitHub, the HTML representation is unable to render, please try loading this page with nbviewer.org.</b></div><div class=\"sk-container\" hidden><div class=\"sk-item\"><div class=\"sk-estimator sk-toggleable\"><input class=\"sk-toggleable__control sk-hidden--visually\" id=\"sk-estimator-id-1\" type=\"checkbox\" checked><label for=\"sk-estimator-id-1\" class=\"sk-toggleable__label sk-toggleable__label-arrow\">BalancedRandomForestClassifier</label><div class=\"sk-toggleable__content\"><pre>BalancedRandomForestClassifier(max_features=&#x27;auto&#x27;, min_impurity_decrease=0,\n",
       "                               min_samples_leaf=2, min_weight_fraction_leaf=0,\n",
       "                               n_estimators=5, n_jobs=1, random_state=42,\n",
       "                               verbose=2)</pre></div></div></div></div></div>"
      ],
      "text/plain": [
       "BalancedRandomForestClassifier(max_features='auto', min_impurity_decrease=0,\n",
       "                               min_samples_leaf=2, min_weight_fraction_leaf=0,\n",
       "                               n_estimators=5, n_jobs=1, random_state=42,\n",
       "                               verbose=2)"
      ]
     },
     "execution_count": 20,
     "metadata": {},
     "output_type": "execute_result"
    }
   ],
   "source": [
    "make_brf_modle(X_train, y_train, X_test, y_test)"
   ]
  },
  {
   "attachments": {},
   "cell_type": "markdown",
   "id": "6b5c1c05",
   "metadata": {},
   "source": [
    "#### 标准化"
   ]
  },
  {
   "cell_type": "code",
   "execution_count": 21,
   "id": "1a563732",
   "metadata": {},
   "outputs": [],
   "source": [
    "scaler = StandardScaler()\n",
    "X_train_std = scaler.fit_transform(X_train)\n",
    "X_test_std = scaler.fit_transform(pd.DataFrame(X_test))"
   ]
  },
  {
   "cell_type": "code",
   "execution_count": 22,
   "id": "5b1be11c",
   "metadata": {},
   "outputs": [
    {
     "name": "stdout",
     "output_type": "stream",
     "text": [
      "building tree 1 of 5\n",
      "building tree 2 of 5\n",
      "building tree 3 of 5\n",
      "building tree 4 of 5\n",
      "building tree 5 of 5\n",
      "score:              precision    recall  f1-score   support\n",
      "\n",
      "           0       1.00      0.81      0.90     37998\n",
      "           1       0.05      0.83      0.09       418\n",
      "\n",
      "    accuracy                           0.81     38416\n",
      "   macro avg       0.52      0.82      0.49     38416\n",
      "weighted avg       0.99      0.81      0.89     38416\n",
      "\n"
     ]
    },
    {
     "name": "stderr",
     "output_type": "stream",
     "text": [
      "C:\\Users\\10069\\AppData\\Local\\Temp\\ipykernel_25768\\884691051.py:21: DataConversionWarning: A column-vector y was passed when a 1d array was expected. Please change the shape of y to (n_samples,), for example using ravel().\n",
      "  BRF.fit(X_train, y_train)\n",
      "[Parallel(n_jobs=1)]: Using backend SequentialBackend with 1 concurrent workers.\n",
      "d:\\Program\\Python3.10\\lib\\site-packages\\sklearn\\utils\\deprecation.py:86: FutureWarning: Function delayed is deprecated; The function `delayed` has been moved from `sklearn.utils.fixes` to `sklearn.utils.parallel`. This import path will be removed in 1.5.\n",
      "  warnings.warn(msg, category=FutureWarning)\n",
      "d:\\Program\\Python3.10\\lib\\site-packages\\sklearn\\utils\\parallel.py:114: UserWarning: `sklearn.utils.parallel.delayed` should be used with `sklearn.utils.parallel.Parallel` to make it possible to propagate the scikit-learn configuration of the current thread to the joblib workers.\n",
      "  warnings.warn(\n",
      "d:\\Program\\Python3.10\\lib\\site-packages\\sklearn\\tree\\_classes.py:269: FutureWarning: `max_features='auto'` has been deprecated in 1.1 and will be removed in 1.3. To keep the past behaviour, explicitly set `max_features='sqrt'`.\n",
      "  warnings.warn(\n",
      "[Parallel(n_jobs=1)]: Done   1 out of   1 | elapsed:    0.0s remaining:    0.0s\n",
      "d:\\Program\\Python3.10\\lib\\site-packages\\sklearn\\utils\\deprecation.py:86: FutureWarning: Function delayed is deprecated; The function `delayed` has been moved from `sklearn.utils.fixes` to `sklearn.utils.parallel`. This import path will be removed in 1.5.\n",
      "  warnings.warn(msg, category=FutureWarning)\n",
      "d:\\Program\\Python3.10\\lib\\site-packages\\sklearn\\utils\\parallel.py:114: UserWarning: `sklearn.utils.parallel.delayed` should be used with `sklearn.utils.parallel.Parallel` to make it possible to propagate the scikit-learn configuration of the current thread to the joblib workers.\n",
      "  warnings.warn(\n",
      "d:\\Program\\Python3.10\\lib\\site-packages\\sklearn\\tree\\_classes.py:269: FutureWarning: `max_features='auto'` has been deprecated in 1.1 and will be removed in 1.3. To keep the past behaviour, explicitly set `max_features='sqrt'`.\n",
      "  warnings.warn(\n",
      "d:\\Program\\Python3.10\\lib\\site-packages\\sklearn\\utils\\deprecation.py:86: FutureWarning: Function delayed is deprecated; The function `delayed` has been moved from `sklearn.utils.fixes` to `sklearn.utils.parallel`. This import path will be removed in 1.5.\n",
      "  warnings.warn(msg, category=FutureWarning)\n",
      "d:\\Program\\Python3.10\\lib\\site-packages\\sklearn\\utils\\parallel.py:114: UserWarning: `sklearn.utils.parallel.delayed` should be used with `sklearn.utils.parallel.Parallel` to make it possible to propagate the scikit-learn configuration of the current thread to the joblib workers.\n",
      "  warnings.warn(\n",
      "d:\\Program\\Python3.10\\lib\\site-packages\\sklearn\\tree\\_classes.py:269: FutureWarning: `max_features='auto'` has been deprecated in 1.1 and will be removed in 1.3. To keep the past behaviour, explicitly set `max_features='sqrt'`.\n",
      "  warnings.warn(\n",
      "d:\\Program\\Python3.10\\lib\\site-packages\\sklearn\\utils\\deprecation.py:86: FutureWarning: Function delayed is deprecated; The function `delayed` has been moved from `sklearn.utils.fixes` to `sklearn.utils.parallel`. This import path will be removed in 1.5.\n",
      "  warnings.warn(msg, category=FutureWarning)\n",
      "d:\\Program\\Python3.10\\lib\\site-packages\\sklearn\\utils\\parallel.py:114: UserWarning: `sklearn.utils.parallel.delayed` should be used with `sklearn.utils.parallel.Parallel` to make it possible to propagate the scikit-learn configuration of the current thread to the joblib workers.\n",
      "  warnings.warn(\n",
      "d:\\Program\\Python3.10\\lib\\site-packages\\sklearn\\tree\\_classes.py:269: FutureWarning: `max_features='auto'` has been deprecated in 1.1 and will be removed in 1.3. To keep the past behaviour, explicitly set `max_features='sqrt'`.\n",
      "  warnings.warn(\n",
      "d:\\Program\\Python3.10\\lib\\site-packages\\sklearn\\utils\\deprecation.py:86: FutureWarning: Function delayed is deprecated; The function `delayed` has been moved from `sklearn.utils.fixes` to `sklearn.utils.parallel`. This import path will be removed in 1.5.\n",
      "  warnings.warn(msg, category=FutureWarning)\n",
      "d:\\Program\\Python3.10\\lib\\site-packages\\sklearn\\utils\\parallel.py:114: UserWarning: `sklearn.utils.parallel.delayed` should be used with `sklearn.utils.parallel.Parallel` to make it possible to propagate the scikit-learn configuration of the current thread to the joblib workers.\n",
      "  warnings.warn(\n",
      "d:\\Program\\Python3.10\\lib\\site-packages\\sklearn\\tree\\_classes.py:269: FutureWarning: `max_features='auto'` has been deprecated in 1.1 and will be removed in 1.3. To keep the past behaviour, explicitly set `max_features='sqrt'`.\n",
      "  warnings.warn(\n",
      "[Parallel(n_jobs=1)]: Done   5 out of   5 | elapsed:    0.0s finished\n",
      "[Parallel(n_jobs=1)]: Using backend SequentialBackend with 1 concurrent workers.\n",
      "[Parallel(n_jobs=1)]: Done   1 out of   1 | elapsed:    0.0s remaining:    0.0s\n",
      "[Parallel(n_jobs=1)]: Done   5 out of   5 | elapsed:    0.0s finished\n"
     ]
    },
    {
     "data": {
      "text/html": [
       "<style>#sk-container-id-2 {color: black;background-color: white;}#sk-container-id-2 pre{padding: 0;}#sk-container-id-2 div.sk-toggleable {background-color: white;}#sk-container-id-2 label.sk-toggleable__label {cursor: pointer;display: block;width: 100%;margin-bottom: 0;padding: 0.3em;box-sizing: border-box;text-align: center;}#sk-container-id-2 label.sk-toggleable__label-arrow:before {content: \"▸\";float: left;margin-right: 0.25em;color: #696969;}#sk-container-id-2 label.sk-toggleable__label-arrow:hover:before {color: black;}#sk-container-id-2 div.sk-estimator:hover label.sk-toggleable__label-arrow:before {color: black;}#sk-container-id-2 div.sk-toggleable__content {max-height: 0;max-width: 0;overflow: hidden;text-align: left;background-color: #f0f8ff;}#sk-container-id-2 div.sk-toggleable__content pre {margin: 0.2em;color: black;border-radius: 0.25em;background-color: #f0f8ff;}#sk-container-id-2 input.sk-toggleable__control:checked~div.sk-toggleable__content {max-height: 200px;max-width: 100%;overflow: auto;}#sk-container-id-2 input.sk-toggleable__control:checked~label.sk-toggleable__label-arrow:before {content: \"▾\";}#sk-container-id-2 div.sk-estimator input.sk-toggleable__control:checked~label.sk-toggleable__label {background-color: #d4ebff;}#sk-container-id-2 div.sk-label input.sk-toggleable__control:checked~label.sk-toggleable__label {background-color: #d4ebff;}#sk-container-id-2 input.sk-hidden--visually {border: 0;clip: rect(1px 1px 1px 1px);clip: rect(1px, 1px, 1px, 1px);height: 1px;margin: -1px;overflow: hidden;padding: 0;position: absolute;width: 1px;}#sk-container-id-2 div.sk-estimator {font-family: monospace;background-color: #f0f8ff;border: 1px dotted black;border-radius: 0.25em;box-sizing: border-box;margin-bottom: 0.5em;}#sk-container-id-2 div.sk-estimator:hover {background-color: #d4ebff;}#sk-container-id-2 div.sk-parallel-item::after {content: \"\";width: 100%;border-bottom: 1px solid gray;flex-grow: 1;}#sk-container-id-2 div.sk-label:hover label.sk-toggleable__label {background-color: #d4ebff;}#sk-container-id-2 div.sk-serial::before {content: \"\";position: absolute;border-left: 1px solid gray;box-sizing: border-box;top: 0;bottom: 0;left: 50%;z-index: 0;}#sk-container-id-2 div.sk-serial {display: flex;flex-direction: column;align-items: center;background-color: white;padding-right: 0.2em;padding-left: 0.2em;position: relative;}#sk-container-id-2 div.sk-item {position: relative;z-index: 1;}#sk-container-id-2 div.sk-parallel {display: flex;align-items: stretch;justify-content: center;background-color: white;position: relative;}#sk-container-id-2 div.sk-item::before, #sk-container-id-2 div.sk-parallel-item::before {content: \"\";position: absolute;border-left: 1px solid gray;box-sizing: border-box;top: 0;bottom: 0;left: 50%;z-index: -1;}#sk-container-id-2 div.sk-parallel-item {display: flex;flex-direction: column;z-index: 1;position: relative;background-color: white;}#sk-container-id-2 div.sk-parallel-item:first-child::after {align-self: flex-end;width: 50%;}#sk-container-id-2 div.sk-parallel-item:last-child::after {align-self: flex-start;width: 50%;}#sk-container-id-2 div.sk-parallel-item:only-child::after {width: 0;}#sk-container-id-2 div.sk-dashed-wrapped {border: 1px dashed gray;margin: 0 0.4em 0.5em 0.4em;box-sizing: border-box;padding-bottom: 0.4em;background-color: white;}#sk-container-id-2 div.sk-label label {font-family: monospace;font-weight: bold;display: inline-block;line-height: 1.2em;}#sk-container-id-2 div.sk-label-container {text-align: center;}#sk-container-id-2 div.sk-container {/* jupyter's `normalize.less` sets `[hidden] { display: none; }` but bootstrap.min.css set `[hidden] { display: none !important; }` so we also need the `!important` here to be able to override the default hidden behavior on the sphinx rendered scikit-learn.org. See: https://github.com/scikit-learn/scikit-learn/issues/21755 */display: inline-block !important;position: relative;}#sk-container-id-2 div.sk-text-repr-fallback {display: none;}</style><div id=\"sk-container-id-2\" class=\"sk-top-container\"><div class=\"sk-text-repr-fallback\"><pre>BalancedRandomForestClassifier(max_features=&#x27;auto&#x27;, min_impurity_decrease=0,\n",
       "                               min_samples_leaf=2, min_weight_fraction_leaf=0,\n",
       "                               n_estimators=5, n_jobs=1, random_state=42,\n",
       "                               verbose=2)</pre><b>In a Jupyter environment, please rerun this cell to show the HTML representation or trust the notebook. <br />On GitHub, the HTML representation is unable to render, please try loading this page with nbviewer.org.</b></div><div class=\"sk-container\" hidden><div class=\"sk-item\"><div class=\"sk-estimator sk-toggleable\"><input class=\"sk-toggleable__control sk-hidden--visually\" id=\"sk-estimator-id-2\" type=\"checkbox\" checked><label for=\"sk-estimator-id-2\" class=\"sk-toggleable__label sk-toggleable__label-arrow\">BalancedRandomForestClassifier</label><div class=\"sk-toggleable__content\"><pre>BalancedRandomForestClassifier(max_features=&#x27;auto&#x27;, min_impurity_decrease=0,\n",
       "                               min_samples_leaf=2, min_weight_fraction_leaf=0,\n",
       "                               n_estimators=5, n_jobs=1, random_state=42,\n",
       "                               verbose=2)</pre></div></div></div></div></div>"
      ],
      "text/plain": [
       "BalancedRandomForestClassifier(max_features='auto', min_impurity_decrease=0,\n",
       "                               min_samples_leaf=2, min_weight_fraction_leaf=0,\n",
       "                               n_estimators=5, n_jobs=1, random_state=42,\n",
       "                               verbose=2)"
      ]
     },
     "execution_count": 22,
     "metadata": {},
     "output_type": "execute_result"
    }
   ],
   "source": [
    "make_brf_modle(X_train_std, y_train, X_test_std, y_test)"
   ]
  },
  {
   "cell_type": "code",
   "execution_count": 23,
   "id": "52c94de0",
   "metadata": {},
   "outputs": [
    {
     "data": {
      "text/html": [
       "<div>\n",
       "<style scoped>\n",
       "    .dataframe tbody tr th:only-of-type {\n",
       "        vertical-align: middle;\n",
       "    }\n",
       "\n",
       "    .dataframe tbody tr th {\n",
       "        vertical-align: top;\n",
       "    }\n",
       "\n",
       "    .dataframe thead th {\n",
       "        text-align: right;\n",
       "    }\n",
       "</style>\n",
       "<table border=\"1\" class=\"dataframe\">\n",
       "  <thead>\n",
       "    <tr style=\"text-align: right;\">\n",
       "      <th></th>\n",
       "      <th>新增疾病类型</th>\n",
       "    </tr>\n",
       "  </thead>\n",
       "  <tbody>\n",
       "    <tr>\n",
       "      <th>101674</th>\n",
       "      <td>0</td>\n",
       "    </tr>\n",
       "    <tr>\n",
       "      <th>135829</th>\n",
       "      <td>0</td>\n",
       "    </tr>\n",
       "    <tr>\n",
       "      <th>75543</th>\n",
       "      <td>0</td>\n",
       "    </tr>\n",
       "    <tr>\n",
       "      <th>104568</th>\n",
       "      <td>0</td>\n",
       "    </tr>\n",
       "    <tr>\n",
       "      <th>133256</th>\n",
       "      <td>0</td>\n",
       "    </tr>\n",
       "    <tr>\n",
       "      <th>...</th>\n",
       "      <td>...</td>\n",
       "    </tr>\n",
       "    <tr>\n",
       "      <th>119998</th>\n",
       "      <td>0</td>\n",
       "    </tr>\n",
       "    <tr>\n",
       "      <th>103809</th>\n",
       "      <td>0</td>\n",
       "    </tr>\n",
       "    <tr>\n",
       "      <th>132051</th>\n",
       "      <td>0</td>\n",
       "    </tr>\n",
       "    <tr>\n",
       "      <th>146986</th>\n",
       "      <td>0</td>\n",
       "    </tr>\n",
       "    <tr>\n",
       "      <th>122077</th>\n",
       "      <td>0</td>\n",
       "    </tr>\n",
       "  </tbody>\n",
       "</table>\n",
       "<p>153663 rows × 1 columns</p>\n",
       "</div>"
      ],
      "text/plain": [
       "        新增疾病类型\n",
       "101674       0\n",
       "135829       0\n",
       "75543        0\n",
       "104568       0\n",
       "133256       0\n",
       "...        ...\n",
       "119998       0\n",
       "103809       0\n",
       "132051       0\n",
       "146986       0\n",
       "122077       0\n",
       "\n",
       "[153663 rows x 1 columns]"
      ]
     },
     "execution_count": 23,
     "metadata": {},
     "output_type": "execute_result"
    }
   ],
   "source": [
    "y_train"
   ]
  },
  {
   "attachments": {},
   "cell_type": "markdown",
   "id": "59b20de7",
   "metadata": {},
   "source": [
    "### BalanceBaggingClassifier"
   ]
  },
  {
   "cell_type": "code",
   "execution_count": 24,
   "id": "b73da9d1",
   "metadata": {},
   "outputs": [],
   "source": [
    "from sklearn.tree import DecisionTreeClassifier\n",
    "from imblearn.ensemble import BalancedBaggingClassifier\n",
    "\n",
    "\n",
    "def make_bbc_model(X_train, y_train, X_test, y_test):\n",
    "    bbc = BalancedBaggingClassifier(\n",
    "        estimator=DecisionTreeClassifier(),\n",
    "        sampling_strategy=\"auto\",\n",
    "        replacement=True,\n",
    "        random_state=42,\n",
    "    )\n",
    "    bbc.fit(X_train, y_train)\n",
    "    print(f\"score:{classification_report(y_test,bbc.predict(X_test))}\")\n",
    "    return bbc"
   ]
  },
  {
   "cell_type": "code",
   "execution_count": 25,
   "id": "96872d2f",
   "metadata": {},
   "outputs": [
    {
     "name": "stderr",
     "output_type": "stream",
     "text": [
      "d:\\Program\\Python3.10\\lib\\site-packages\\sklearn\\ensemble\\_bagging.py:802: DataConversionWarning: A column-vector y was passed when a 1d array was expected. Please change the shape of y to (n_samples, ), for example using ravel().\n",
      "  y = column_or_1d(y, warn=True)\n"
     ]
    },
    {
     "name": "stdout",
     "output_type": "stream",
     "text": [
      "score:              precision    recall  f1-score   support\n",
      "\n",
      "           0       1.00      0.91      0.95     37998\n",
      "           1       0.08      0.78      0.15       418\n",
      "\n",
      "    accuracy                           0.91     38416\n",
      "   macro avg       0.54      0.84      0.55     38416\n",
      "weighted avg       0.99      0.91      0.94     38416\n",
      "\n"
     ]
    }
   ],
   "source": [
    "bbc = make_bbc_model(X_train, y_train, X_test, y_test)"
   ]
  },
  {
   "attachments": {},
   "cell_type": "markdown",
   "id": "40a9924f",
   "metadata": {},
   "source": [
    "#### 绘制混淆矩阵"
   ]
  },
  {
   "cell_type": "code",
   "execution_count": 26,
   "id": "f3a6ffdc",
   "metadata": {},
   "outputs": [],
   "source": [
    "# confusion_matrix(X_test, y_test)"
   ]
  },
  {
   "cell_type": "code",
   "execution_count": 27,
   "id": "451ae493",
   "metadata": {},
   "outputs": [
    {
     "data": {
      "image/png": "[encoded data removed]",
      "text/plain": [
       "<Figure size 640x480 with 1 Axes>"
      ]
     },
     "metadata": {},
     "output_type": "display_data"
    }
   ],
   "source": [
    "plot_AUC(bbc, X_test, y_test)"
   ]
  },
  {
   "attachments": {},
   "cell_type": "markdown",
   "id": "d0cd1a20",
   "metadata": {},
   "source": [
    "### XGB"
   ]
  },
  {
   "cell_type": "code",
   "execution_count": 28,
   "id": "16129500",
   "metadata": {},
   "outputs": [],
   "source": [
    "import xgboost as xgb\n",
    "from xgboost.sklearn import XGBClassifier"
   ]
  },
  {
   "cell_type": "code",
   "execution_count": 29,
   "id": "24d95655",
   "metadata": {},
   "outputs": [],
   "source": [
    "# scale_pos_weight=1000,\n",
    "\n",
    "\n",
    "def make_xgb_model(X_train, y_train, X_test, y_test):\n",
    "    xgb = XGBClassifier(\n",
    "        eval_metrics=[\"logloss\", \"auc\", \"error\"],\n",
    "        learning_rate=0.07,\n",
    "        n_estimators=1000,\n",
    "        max_depth=5,\n",
    "        min_child_weight=1,\n",
    "        gamma=0,\n",
    "        subsample=0.8,\n",
    "        colsample_bytree=0.8,\n",
    "        objective=\"binary:logistic\",\n",
    "        scale_pos_weight=1000,\n",
    "        nthread=4,\n",
    "        seed=42,\n",
    "    )\n",
    "    xgb.fit(X_train, y_train)\n",
    "    print(f\"score:{classification_report(y_test,xgb.predict(X_test))}\")\n",
    "    return xgb"
   ]
  },
  {
   "cell_type": "code",
   "execution_count": 30,
   "id": "4fe40b89",
   "metadata": {},
   "outputs": [
    {
     "name": "stdout",
     "output_type": "stream",
     "text": [
      "[12:48:52] WARNING: C:\\buildkite-agent\\builds\\buildkite-windows-cpu-autoscaling-group-i-07593ffd91cd9da33-1\\xgboost\\xgboost-ci-windows\\src\\learner.cc:767: \n",
      "Parameters: { \"eval_metrics\" } are not used.\n",
      "\n",
      "score:              precision    recall  f1-score   support\n",
      "\n",
      "           0       1.00      0.92      0.95     37998\n",
      "           1       0.09      0.75      0.16       418\n",
      "\n",
      "    accuracy                           0.91     38416\n",
      "   macro avg       0.54      0.83      0.56     38416\n",
      "weighted avg       0.99      0.91      0.95     38416\n",
      "\n"
     ]
    }
   ],
   "source": [
    "xgb = make_xgb_model(X_train, y_train, X_test, y_test)"
   ]
  },
  {
   "cell_type": "code",
   "execution_count": 31,
   "id": "9eb71dd6",
   "metadata": {},
   "outputs": [],
   "source": [
    "# confusion_matrix(X_test, y_test)"
   ]
  },
  {
   "cell_type": "code",
   "execution_count": 32,
   "id": "b961d089",
   "metadata": {},
   "outputs": [
    {
     "data": {
      "image/png": "[encoded data removed]",
      "text/plain": [
       "<Figure size 640x480 with 1 Axes>"
      ]
     },
     "metadata": {},
     "output_type": "display_data"
    }
   ],
   "source": [
    "plot_AUC(xgb, X_test, y_test)"
   ]
  },
  {
   "attachments": {},
   "cell_type": "markdown",
   "id": "d8c80b86",
   "metadata": {},
   "source": [
    "### 疾病分类模型"
   ]
  },
  {
   "cell_type": "code",
   "execution_count": 33,
   "id": "9210bd77",
   "metadata": {},
   "outputs": [],
   "source": [
    "cols = [\"日产量\", \"日活动量\", \"日反刍量\", \"泌乳天数\", \"泌乳期\", \"新增疾病类型\"]\n",
    "data2 = pd.read_csv(\"../data/sample.csv\", usecols=cols)"
   ]
  },
  {
   "cell_type": "code",
   "execution_count": 34,
   "id": "2bb79d2e",
   "metadata": {},
   "outputs": [],
   "source": [
    "data2_notnull = data2[data2[\"新增疾病类型\"].notnull()]"
   ]
  },
  {
   "cell_type": "code",
   "execution_count": 35,
   "id": "e57cdada",
   "metadata": {},
   "outputs": [
    {
     "data": {
      "text/html": [
       "<div>\n",
       "<style scoped>\n",
       "    .dataframe tbody tr th:only-of-type {\n",
       "        vertical-align: middle;\n",
       "    }\n",
       "\n",
       "    .dataframe tbody tr th {\n",
       "        vertical-align: top;\n",
       "    }\n",
       "\n",
       "    .dataframe thead th {\n",
       "        text-align: right;\n",
       "    }\n",
       "</style>\n",
       "<table border=\"1\" class=\"dataframe\">\n",
       "  <thead>\n",
       "    <tr style=\"text-align: right;\">\n",
       "      <th></th>\n",
       "      <th>日产量</th>\n",
       "      <th>日活动量</th>\n",
       "      <th>日反刍量</th>\n",
       "      <th>泌乳天数</th>\n",
       "      <th>泌乳期</th>\n",
       "      <th>新增疾病类型</th>\n",
       "    </tr>\n",
       "  </thead>\n",
       "  <tbody>\n",
       "    <tr>\n",
       "      <th>775</th>\n",
       "      <td>2.489000</td>\n",
       "      <td>531.0</td>\n",
       "      <td>446.0</td>\n",
       "      <td>445</td>\n",
       "      <td>5</td>\n",
       "      <td>乳房疾病</td>\n",
       "    </tr>\n",
       "    <tr>\n",
       "      <th>878</th>\n",
       "      <td>1.671000</td>\n",
       "      <td>620.0</td>\n",
       "      <td>533.0</td>\n",
       "      <td>444</td>\n",
       "      <td>4</td>\n",
       "      <td>乳房疾病</td>\n",
       "    </tr>\n",
       "    <tr>\n",
       "      <th>952</th>\n",
       "      <td>48.643002</td>\n",
       "      <td>505.0</td>\n",
       "      <td>487.0</td>\n",
       "      <td>35</td>\n",
       "      <td>5</td>\n",
       "      <td>乳房疾病</td>\n",
       "    </tr>\n",
       "    <tr>\n",
       "      <th>953</th>\n",
       "      <td>22.277000</td>\n",
       "      <td>510.0</td>\n",
       "      <td>430.0</td>\n",
       "      <td>36</td>\n",
       "      <td>5</td>\n",
       "      <td>乳房疾病</td>\n",
       "    </tr>\n",
       "    <tr>\n",
       "      <th>954</th>\n",
       "      <td>16.101999</td>\n",
       "      <td>496.0</td>\n",
       "      <td>373.0</td>\n",
       "      <td>37</td>\n",
       "      <td>5</td>\n",
       "      <td>乳房疾病</td>\n",
       "    </tr>\n",
       "    <tr>\n",
       "      <th>...</th>\n",
       "      <td>...</td>\n",
       "      <td>...</td>\n",
       "      <td>...</td>\n",
       "      <td>...</td>\n",
       "      <td>...</td>\n",
       "      <td>...</td>\n",
       "    </tr>\n",
       "    <tr>\n",
       "      <th>190625</th>\n",
       "      <td>39.389999</td>\n",
       "      <td>539.0</td>\n",
       "      <td>563.0</td>\n",
       "      <td>24</td>\n",
       "      <td>1</td>\n",
       "      <td>生殖系统</td>\n",
       "    </tr>\n",
       "    <tr>\n",
       "      <th>190626</th>\n",
       "      <td>34.597000</td>\n",
       "      <td>536.0</td>\n",
       "      <td>657.0</td>\n",
       "      <td>25</td>\n",
       "      <td>1</td>\n",
       "      <td>生殖系统</td>\n",
       "    </tr>\n",
       "    <tr>\n",
       "      <th>190627</th>\n",
       "      <td>35.306999</td>\n",
       "      <td>513.0</td>\n",
       "      <td>638.0</td>\n",
       "      <td>26</td>\n",
       "      <td>1</td>\n",
       "      <td>生殖系统</td>\n",
       "    </tr>\n",
       "    <tr>\n",
       "      <th>190628</th>\n",
       "      <td>40.227001</td>\n",
       "      <td>502.0</td>\n",
       "      <td>659.0</td>\n",
       "      <td>27</td>\n",
       "      <td>1</td>\n",
       "      <td>生殖系统</td>\n",
       "    </tr>\n",
       "    <tr>\n",
       "      <th>190629</th>\n",
       "      <td>28.643000</td>\n",
       "      <td>514.0</td>\n",
       "      <td>616.0</td>\n",
       "      <td>28</td>\n",
       "      <td>1</td>\n",
       "      <td>生殖系统</td>\n",
       "    </tr>\n",
       "  </tbody>\n",
       "</table>\n",
       "<p>2074 rows × 6 columns</p>\n",
       "</div>"
      ],
      "text/plain": [
       "              日产量   日活动量   日反刍量  泌乳天数  泌乳期 新增疾病类型\n",
       "775      2.489000  531.0  446.0   445    5   乳房疾病\n",
       "878      1.671000  620.0  533.0   444    4   乳房疾病\n",
       "952     48.643002  505.0  487.0    35    5   乳房疾病\n",
       "953     22.277000  510.0  430.0    36    5   乳房疾病\n",
       "954     16.101999  496.0  373.0    37    5   乳房疾病\n",
       "...           ...    ...    ...   ...  ...    ...\n",
       "190625  39.389999  539.0  563.0    24    1   生殖系统\n",
       "190626  34.597000  536.0  657.0    25    1   生殖系统\n",
       "190627  35.306999  513.0  638.0    26    1   生殖系统\n",
       "190628  40.227001  502.0  659.0    27    1   生殖系统\n",
       "190629  28.643000  514.0  616.0    28    1   生殖系统\n",
       "\n",
       "[2074 rows x 6 columns]"
      ]
     },
     "execution_count": 35,
     "metadata": {},
     "output_type": "execute_result"
    }
   ],
   "source": [
    "data2_notnull"
   ]
  },
  {
   "cell_type": "code",
   "execution_count": 36,
   "id": "6a5945ad",
   "metadata": {},
   "outputs": [
    {
     "name": "stderr",
     "output_type": "stream",
     "text": [
      "C:\\Users\\10069\\AppData\\Local\\Temp\\ipykernel_25768\\2087708450.py:3: SettingWithCopyWarning: \n",
      "A value is trying to be set on a copy of a slice from a DataFrame\n",
      "\n",
      "See the caveats in the documentation: https://pandas.pydata.org/pandas-docs/stable/user_guide/indexing.html#returning-a-view-versus-a-copy\n",
      "  data2_notnull.drop(\n"
     ]
    }
   ],
   "source": [
    "del_dis = [\"传染病\", \"应激与过敏\", \"神经系统\", \"四肢疾病\", \"泌尿系统\"]\n",
    "for dis in del_dis:\n",
    "    data2_notnull.drop(\n",
    "        data2_notnull[data2_notnull[\"新增疾病类型\"] == dis.strip()].index,\n",
    "        axis=0,\n",
    "        inplace=True,\n",
    "    )"
   ]
  },
  {
   "cell_type": "code",
   "execution_count": 37,
   "id": "b21c9992",
   "metadata": {},
   "outputs": [
    {
     "data": {
      "text/plain": [
       "乳房疾病      915\n",
       "生殖系统      542\n",
       "自定义疾病     386\n",
       "消化系统       97\n",
       "营养代谢系统     81\n",
       "Name: 新增疾病类型, dtype: int64"
      ]
     },
     "execution_count": 37,
     "metadata": {},
     "output_type": "execute_result"
    }
   ],
   "source": [
    "data2_notnull[\"新增疾病类型\"].value_counts()"
   ]
  },
  {
   "cell_type": "code",
   "execution_count": 38,
   "id": "cebb23a7",
   "metadata": {},
   "outputs": [],
   "source": [
    "dis_type = enumerate(data2_notnull[\"新增疾病类型\"].unique())\n",
    "dis_type_dict = dict(dis_type)\n",
    "dt = {v: k for k, v in dis_type_dict.items()}"
   ]
  },
  {
   "cell_type": "code",
   "execution_count": 39,
   "id": "d84a9abd",
   "metadata": {},
   "outputs": [
    {
     "data": {
      "text/plain": [
       "{'乳房疾病': 0, '消化系统': 1, '自定义疾病': 2, '生殖系统': 3, '营养代谢系统': 4}"
      ]
     },
     "execution_count": 39,
     "metadata": {},
     "output_type": "execute_result"
    }
   ],
   "source": [
    "dt"
   ]
  },
  {
   "cell_type": "code",
   "execution_count": 40,
   "id": "21b1b437",
   "metadata": {},
   "outputs": [
    {
     "name": "stderr",
     "output_type": "stream",
     "text": [
      "C:\\Users\\10069\\AppData\\Local\\Temp\\ipykernel_25768\\2143366885.py:1: SettingWithCopyWarning: \n",
      "A value is trying to be set on a copy of a slice from a DataFrame.\n",
      "Try using .loc[row_indexer,col_indexer] = value instead\n",
      "\n",
      "See the caveats in the documentation: https://pandas.pydata.org/pandas-docs/stable/user_guide/indexing.html#returning-a-view-versus-a-copy\n",
      "  data2_notnull[\"类型\"] = data2_notnull[\"新增疾病类型\"].map(dt)\n"
     ]
    }
   ],
   "source": [
    "data2_notnull[\"类型\"] = data2_notnull[\"新增疾病类型\"].map(dt)"
   ]
  },
  {
   "cell_type": "code",
   "execution_count": 41,
   "id": "1a52529e",
   "metadata": {},
   "outputs": [],
   "source": [
    "data_dis = data2_notnull.drop(columns=\"新增疾病类型\")"
   ]
  },
  {
   "cell_type": "code",
   "execution_count": 42,
   "id": "4f670274",
   "metadata": {},
   "outputs": [
    {
     "data": {
      "text/plain": [
       "0    915\n",
       "3    542\n",
       "2    386\n",
       "1     97\n",
       "4     81\n",
       "Name: 类型, dtype: int64"
      ]
     },
     "execution_count": 42,
     "metadata": {},
     "output_type": "execute_result"
    }
   ],
   "source": [
    "data_dis[\"类型\"].value_counts()"
   ]
  }
 ],
 "metadata": {
  "kernelspec": {
   "display_name": "Python 3 (ipykernel)",
   "language": "python",
   "name": "python3"
  },
  "language_info": {
   "codemirror_mode": {
    "name": "ipython",
    "version": 3
   },
   "file_extension": ".py",
   "mimetype": "text/x-python",
   "name": "python",
   "nbconvert_exporter": "python",
   "pygments_lexer": "ipython3",
   "version": "3.10.10"
  }
 },
 "nbformat": 4,
 "nbformat_minor": 5
}
